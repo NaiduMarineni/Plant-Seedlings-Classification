{
 "cells": [
  {
   "cell_type": "code",
   "execution_count": 21,
   "metadata": {
    "collapsed": false
   },
   "outputs": [],
   "source": [
    "import tensorflow as tf\n",
    "from tensorflow import image as img\n",
    "import os\n",
    "import shutil, sys\n",
    "import numpy as np\n",
    "from keras.preprocessing import image\n",
    "from keras.preprocessing.image import ImageDataGenerator\n",
    "import random\n",
    "import keras\n",
    "from keras.utils import plot_model"
   ]
  },
  {
   "cell_type": "code",
   "execution_count": 2,
   "metadata": {
    "collapsed": true
   },
   "outputs": [],
   "source": [
    "base_dir = '../NNProject_Data'\n",
    "train_dir = os.path.join(base_dir, 'train_2/')\n",
    "val_dir = os.path.join(base_dir, 'validation_2/')\n",
    "test_dir = os.path.join(base_dir, 'test/')"
   ]
  },
  {
   "cell_type": "code",
   "execution_count": 5,
   "metadata": {
    "collapsed": false
   },
   "outputs": [
    {
     "name": "stdout",
     "output_type": "stream",
     "text": [
      "Found 857 images belonging to 2 classes.\n",
      "Found 60 images belonging to 2 classes.\n"
     ]
    }
   ],
   "source": [
    "#Train data generator with various augumentations\n",
    "rsltn = 196\n",
    "train_datagen = ImageDataGenerator(\n",
    "    rescale=1./255,\n",
    "    rotation_range=90,\n",
    "    width_shift_range=0.3,\n",
    "    height_shift_range=0.3,\n",
    "    shear_range=0.2,\n",
    "    zoom_range=0.2,\n",
    "    horizontal_flip=True,\n",
    "    vertical_flip = True)\n",
    "\n",
    "train_generator = train_datagen.flow_from_directory(\n",
    "        train_dir, \n",
    "        target_size=(rsltn , rsltn),\n",
    "        batch_size= 10,\n",
    "        shuffle=True,\n",
    "        class_mode='categorical')\n",
    "\n",
    "#Validation data generator without any augumentations\n",
    "val_datagen = ImageDataGenerator(\n",
    "      rescale=1./255)\n",
    "\n",
    "val_generator = val_datagen.flow_from_directory(\n",
    "        val_dir, \n",
    "        target_size=(rsltn, rsltn),\n",
    "        batch_size= 10,\n",
    "        shuffle=True,\n",
    "        class_mode='categorical')"
   ]
  },
  {
   "cell_type": "code",
   "execution_count": 11,
   "metadata": {
    "collapsed": false
   },
   "outputs": [
    {
     "name": "stdout",
     "output_type": "stream",
     "text": [
      "_________________________________________________________________\n",
      "Layer (type)                 Output Shape              Param #   \n",
      "=================================================================\n",
      "vgg19 (Model)                (None, 6, 6, 512)         20024384  \n",
      "_________________________________________________________________\n",
      "flatten_4 (Flatten)          (None, 18432)             0         \n",
      "_________________________________________________________________\n",
      "dense_13 (Dense)             (None, 1024)              18875392  \n",
      "_________________________________________________________________\n",
      "dense_14 (Dense)             (None, 128)               131200    \n",
      "_________________________________________________________________\n",
      "dense_15 (Dense)             (None, 32)                4128      \n",
      "_________________________________________________________________\n",
      "dense_16 (Dense)             (None, 2)                 66        \n",
      "=================================================================\n",
      "Total params: 39,035,170\n",
      "Trainable params: 19,010,786\n",
      "Non-trainable params: 20,024,384\n",
      "_________________________________________________________________\n"
     ]
    }
   ],
   "source": [
    "from keras import models\n",
    "from keras import layers\n",
    "from keras import optimizers\n",
    "from keras.applications import VGG19\n",
    "\n",
    "rsltn = 196\n",
    "conv_base = VGG19(weights='imagenet', include_top= False, input_shape=(rsltn, rsltn, 3))\n",
    "\n",
    "model = models.Sequential()\n",
    "model.add(conv_base)\n",
    "model.add(layers.Flatten())\n",
    "model.add(layers.Dense(1024, activation='relu'))\n",
    "model.add(layers.Dense(128, activation='relu'))\n",
    "model.add(layers.Dense(32, activation='relu'))\n",
    "model.add(layers.Dense(2, activation='softmax'))\n",
    "conv_base.trainable = False\n",
    "model.compile(optimizer=optimizers.RMSprop(lr=0.00001),\n",
    "              loss='categorical_crossentropy',\n",
    "              metrics=['accuracy'])\n",
    "model.summary()"
   ]
  },
  {
   "cell_type": "code",
   "execution_count": 12,
   "metadata": {
    "collapsed": false
   },
   "outputs": [
    {
     "name": "stdout",
     "output_type": "stream",
     "text": [
      "Epoch 1/10\n",
      "200/200 [==============================] - 53s 266ms/step - loss: 0.5635 - acc: 0.7263 - val_loss: 0.8137 - val_acc: 0.5000\n",
      "Epoch 2/10\n",
      "200/200 [==============================] - 49s 246ms/step - loss: 0.5328 - acc: 0.7456 - val_loss: 0.8518 - val_acc: 0.5400\n",
      "Epoch 3/10\n",
      "200/200 [==============================] - 47s 235ms/step - loss: 0.5358 - acc: 0.7356 - val_loss: 0.8217 - val_acc: 0.5100\n",
      "Epoch 4/10\n",
      "200/200 [==============================] - 49s 247ms/step - loss: 0.5275 - acc: 0.7515 - val_loss: 0.7022 - val_acc: 0.6050\n",
      "Epoch 5/10\n",
      "200/200 [==============================] - 48s 238ms/step - loss: 0.5250 - acc: 0.7451 - val_loss: 0.7068 - val_acc: 0.6400\n",
      "Epoch 6/10\n",
      "200/200 [==============================] - 48s 240ms/step - loss: 0.5150 - acc: 0.7569 - val_loss: 1.0204 - val_acc: 0.4950\n",
      "Epoch 7/10\n",
      "200/200 [==============================] - 49s 243ms/step - loss: 0.5162 - acc: 0.7566 - val_loss: 0.7365 - val_acc: 0.6250\n",
      "Epoch 8/10\n",
      "200/200 [==============================] - 50s 250ms/step - loss: 0.5228 - acc: 0.7601 - val_loss: 0.7178 - val_acc: 0.5750\n",
      "Epoch 9/10\n",
      "200/200 [==============================] - 48s 238ms/step - loss: 0.5113 - acc: 0.7671 - val_loss: 0.7882 - val_acc: 0.5750\n",
      "Epoch 10/10\n",
      "200/200 [==============================] - 48s 242ms/step - loss: 0.5116 - acc: 0.7699 - val_loss: 0.7737 - val_acc: 0.5900\n"
     ]
    }
   ],
   "source": [
    "history = model.fit_generator(\n",
    "      train_generator,\n",
    "      steps_per_epoch = 200,\n",
    "      epochs= 10,\n",
    "      validation_steps = 20,\n",
    "      validation_data = val_generator,\n",
    "      )"
   ]
  },
  {
   "cell_type": "code",
   "execution_count": 14,
   "metadata": {
    "collapsed": false
   },
   "outputs": [],
   "source": [
    "for layer in model.layers:\n",
    "    if layer.name == 'vgg19':\n",
    "        layer.trainable = True\n",
    "        #print(layer.name)\n",
    "        for each_layer in layer.layers:\n",
    "            #print(each_layer.name)\n",
    "            if each_layer.name == 'block5_conv1' or each_layer.name == 'block5_conv2' or each_layer.name == 'block5_conv3' or each_layer.name == 'block5_conv4':\n",
    "                each_layer.trainable = True\n",
    "            else:\n",
    "                each_layer.trainable = False\n",
    "model.compile(optimizer=optimizers.RMSprop(lr=0.0001),\n",
    "              loss='categorical_crossentropy',\n",
    "              metrics=['accuracy'])"
   ]
  },
  {
   "cell_type": "code",
   "execution_count": 15,
   "metadata": {
    "collapsed": false
   },
   "outputs": [
    {
     "name": "stdout",
     "output_type": "stream",
     "text": [
      "_________________________________________________________________\n",
      "Layer (type)                 Output Shape              Param #   \n",
      "=================================================================\n",
      "vgg19 (Model)                (None, 6, 6, 512)         20024384  \n",
      "_________________________________________________________________\n",
      "flatten_4 (Flatten)          (None, 18432)             0         \n",
      "_________________________________________________________________\n",
      "dense_13 (Dense)             (None, 1024)              18875392  \n",
      "_________________________________________________________________\n",
      "dense_14 (Dense)             (None, 128)               131200    \n",
      "_________________________________________________________________\n",
      "dense_15 (Dense)             (None, 32)                4128      \n",
      "_________________________________________________________________\n",
      "dense_16 (Dense)             (None, 2)                 66        \n",
      "=================================================================\n",
      "Total params: 39,035,170\n",
      "Trainable params: 28,450,018\n",
      "Non-trainable params: 10,585,152\n",
      "_________________________________________________________________\n",
      "Epoch 1/10\n",
      "200/200 [==============================] - 50s 249ms/step - loss: 0.5142 - acc: 0.7587 - val_loss: 0.9238 - val_acc: 0.6100\n",
      "Epoch 2/10\n",
      "200/200 [==============================] - 49s 244ms/step - loss: 0.5179 - acc: 0.7598 - val_loss: 0.7275 - val_acc: 0.6050\n",
      "Epoch 3/10\n",
      "200/200 [==============================] - 50s 250ms/step - loss: 0.4926 - acc: 0.7729 - val_loss: 0.8861 - val_acc: 0.6150\n",
      "Epoch 4/10\n",
      "200/200 [==============================] - 49s 243ms/step - loss: 0.5025 - acc: 0.7708 - val_loss: 0.8132 - val_acc: 0.5400\n",
      "Epoch 5/10\n",
      "200/200 [==============================] - 48s 242ms/step - loss: 0.4805 - acc: 0.7859 - val_loss: 1.0359 - val_acc: 0.5500\n",
      "Epoch 6/10\n",
      "200/200 [==============================] - 49s 247ms/step - loss: 0.4815 - acc: 0.7886 - val_loss: 0.9216 - val_acc: 0.5750\n",
      "Epoch 7/10\n",
      "200/200 [==============================] - 48s 239ms/step - loss: 0.4752 - acc: 0.7748 - val_loss: 0.6050 - val_acc: 0.7050\n",
      "Epoch 8/10\n",
      "200/200 [==============================] - 49s 244ms/step - loss: 0.4789 - acc: 0.7794 - val_loss: 0.6639 - val_acc: 0.7150\n",
      "Epoch 9/10\n",
      "200/200 [==============================] - 49s 245ms/step - loss: 0.4673 - acc: 0.7926 - val_loss: 0.7353 - val_acc: 0.6350\n",
      "Epoch 10/10\n",
      "200/200 [==============================] - 49s 246ms/step - loss: 0.4538 - acc: 0.7999 - val_loss: 0.9145 - val_acc: 0.6250\n"
     ]
    }
   ],
   "source": [
    "model.compile(optimizer=optimizers.RMSprop(lr=0.00001),\n",
    "              loss='categorical_crossentropy',\n",
    "              metrics=['accuracy'])\n",
    "model.summary()\n",
    "history = model.fit_generator(\n",
    "      train_generator,\n",
    "      steps_per_epoch = 200,\n",
    "      epochs= 10,\n",
    "      validation_steps = 20,\n",
    "      validation_data = val_generator,\n",
    "      )"
   ]
  },
  {
   "cell_type": "code",
   "execution_count": 16,
   "metadata": {
    "collapsed": false
   },
   "outputs": [
    {
     "name": "stdout",
     "output_type": "stream",
     "text": [
      "Epoch 1/10\n",
      "200/200 [==============================] - 51s 254ms/step - loss: 0.4414 - acc: 0.8129 - val_loss: 1.0133 - val_acc: 0.5850\n",
      "Epoch 2/10\n",
      "200/200 [==============================] - 49s 247ms/step - loss: 0.4438 - acc: 0.8076 - val_loss: 0.6793 - val_acc: 0.6500\n",
      "Epoch 3/10\n",
      "200/200 [==============================] - 47s 236ms/step - loss: 0.4329 - acc: 0.8139 - val_loss: 0.7622 - val_acc: 0.6550\n",
      "Epoch 4/10\n",
      "200/200 [==============================] - 49s 243ms/step - loss: 0.4268 - acc: 0.8187 - val_loss: 0.7266 - val_acc: 0.6550\n",
      "Epoch 5/10\n",
      "200/200 [==============================] - 48s 242ms/step - loss: 0.4332 - acc: 0.8183 - val_loss: 0.7095 - val_acc: 0.6950\n",
      "Epoch 6/10\n",
      "200/200 [==============================] - 50s 250ms/step - loss: 0.3924 - acc: 0.8259 - val_loss: 0.8702 - val_acc: 0.6200\n",
      "Epoch 7/10\n",
      "200/200 [==============================] - 48s 239ms/step - loss: 0.4194 - acc: 0.8199 - val_loss: 0.6843 - val_acc: 0.6250\n",
      "Epoch 8/10\n",
      "200/200 [==============================] - 48s 242ms/step - loss: 0.4020 - acc: 0.8323 - val_loss: 0.8151 - val_acc: 0.6700\n",
      "Epoch 9/10\n",
      "200/200 [==============================] - 48s 238ms/step - loss: 0.3936 - acc: 0.8314 - val_loss: 1.1157 - val_acc: 0.5600\n",
      "Epoch 10/10\n",
      "200/200 [==============================] - 48s 241ms/step - loss: 0.3940 - acc: 0.8280 - val_loss: 1.0382 - val_acc: 0.5850\n"
     ]
    }
   ],
   "source": [
    "history = model.fit_generator(\n",
    "      train_generator,\n",
    "      steps_per_epoch = 200,\n",
    "      epochs= 10,\n",
    "      validation_steps = 20,\n",
    "      validation_data = val_generator,\n",
    "      )"
   ]
  },
  {
   "cell_type": "code",
   "execution_count": 18,
   "metadata": {
    "collapsed": true
   },
   "outputs": [],
   "source": [
    "model.save('model_2_4_17_1.h5')"
   ]
  },
  {
   "cell_type": "code",
   "execution_count": 22,
   "metadata": {
    "collapsed": false
   },
   "outputs": [],
   "source": [
    "from keras.utils import plot_model\n",
    "temp_model = keras.models.load_model('model_2_4_17_1.h5')\n",
    "for layer in temp_model.layers:\n",
    "    if layer.name == 'vgg19':\n",
    "        layer.trainable = True\n",
    "        #print(layer.name)\n",
    "        for each_layer in layer.layers:\n",
    "            #print(each_layer.name)\n",
    "            if each_layer.name == 'block4_conv1' or each_layer.name == 'block4_conv2' or each_layer.name == 'block4_conv3' or each_layer.name == 'block4_conv4':\n",
    "                each_layer.trainable = True\n",
    "            elif each_layer.name == 'block5_conv1' or each_layer.name == 'block5_conv2' or each_layer.name == 'block5_conv3' or each_layer.name == 'block5_conv4':\n",
    "                #print(each_layer.name)\n",
    "                each_layer.trainable = True\n",
    "            else:\n",
    "                #print(each_layer.name)\n",
    "                each_layer.trainable = False\n",
    "temp_model.compile(optimizer=optimizers.RMSprop(lr=0.00001),\n",
    "              loss='categorical_crossentropy',\n",
    "              metrics=['accuracy'])"
   ]
  },
  {
   "cell_type": "code",
   "execution_count": 23,
   "metadata": {
    "collapsed": false
   },
   "outputs": [
    {
     "name": "stdout",
     "output_type": "stream",
     "text": [
      "Epoch 1/10\n",
      "200/200 [==============================] - 51s 256ms/step - loss: 0.3698 - acc: 0.8514 - val_loss: 0.6878 - val_acc: 0.7000\n",
      "Epoch 2/10\n",
      "200/200 [==============================] - 49s 246ms/step - loss: 0.3824 - acc: 0.8376 - val_loss: 0.7438 - val_acc: 0.6650\n",
      "Epoch 3/10\n",
      "200/200 [==============================] - 49s 245ms/step - loss: 0.3927 - acc: 0.8336 - val_loss: 1.3059 - val_acc: 0.5900\n",
      "Epoch 4/10\n",
      "200/200 [==============================] - 49s 246ms/step - loss: 0.3834 - acc: 0.8411 - val_loss: 0.7349 - val_acc: 0.6400\n",
      "Epoch 5/10\n",
      "200/200 [==============================] - 48s 241ms/step - loss: 0.3690 - acc: 0.8416 - val_loss: 0.7300 - val_acc: 0.6450\n",
      "Epoch 6/10\n",
      "200/200 [==============================] - 49s 245ms/step - loss: 0.3785 - acc: 0.8439 - val_loss: 0.6213 - val_acc: 0.7000\n",
      "Epoch 7/10\n",
      "200/200 [==============================] - 49s 247ms/step - loss: 0.3556 - acc: 0.8576 - val_loss: 1.0546 - val_acc: 0.5950\n",
      "Epoch 8/10\n",
      "200/200 [==============================] - 50s 250ms/step - loss: 0.3634 - acc: 0.8431 - val_loss: 1.2065 - val_acc: 0.6050\n",
      "Epoch 9/10\n",
      "200/200 [==============================] - 49s 247ms/step - loss: 0.3593 - acc: 0.8523 - val_loss: 0.6375 - val_acc: 0.6900\n",
      "Epoch 10/10\n",
      "200/200 [==============================] - 48s 240ms/step - loss: 0.3445 - acc: 0.8573 - val_loss: 0.7898 - val_acc: 0.7150\n"
     ]
    }
   ],
   "source": [
    "history = model.fit_generator(\n",
    "      train_generator,\n",
    "      steps_per_epoch = 200,\n",
    "      epochs= 10,\n",
    "      validation_steps = 20,\n",
    "      validation_data = val_generator,\n",
    "      )"
   ]
  },
  {
   "cell_type": "code",
   "execution_count": 24,
   "metadata": {
    "collapsed": true
   },
   "outputs": [],
   "source": [
    "model.save('model_2_4_17_2.h5')"
   ]
  }
 ],
 "metadata": {
  "kernelspec": {
   "display_name": "Python 3",
   "language": "python",
   "name": "python3"
  },
  "language_info": {
   "codemirror_mode": {
    "name": "ipython",
    "version": 3
   },
   "file_extension": ".py",
   "mimetype": "text/x-python",
   "name": "python",
   "nbconvert_exporter": "python",
   "pygments_lexer": "ipython3",
   "version": "3.5.3"
  }
 },
 "nbformat": 4,
 "nbformat_minor": 0
}
