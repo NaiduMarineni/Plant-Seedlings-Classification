{
 "cells": [
  {
   "cell_type": "code",
   "execution_count": 1,
   "metadata": {},
   "outputs": [
    {
     "name": "stderr",
     "output_type": "stream",
     "text": [
      "Using TensorFlow backend.\n"
     ]
    }
   ],
   "source": [
    "import tensorflow as tf\n",
    "from tensorflow import image as img\n",
    "import os\n",
    "import shutil, sys\n",
    "import numpy as np\n",
    "import keras\n",
    "from keras.preprocessing import image\n",
    "from keras.preprocessing.image import ImageDataGenerator\n",
    "import random\n",
    "import keras\n",
    "from keras.utils import plot_model\n",
    "from keras.applications.mobilenet import MobileNet\n",
    "from keras.layers import AveragePooling2D, GlobalAveragePooling2D\n",
    "from keras.layers import Conv2D, Convolution2D, MaxPooling2D, ZeroPadding2D, BatchNormalization, Activation\n",
    "from keras.layers import Dropout, Flatten, Dense, Input\n",
    "from keras.models import Sequential, Model\n",
    "from keras.optimizers import RMSprop\n",
    "from keras.callbacks import ModelCheckpoint, ReduceLROnPlateau, EarlyStopping, CSVLogger"
   ]
  },
  {
   "cell_type": "code",
   "execution_count": 2,
   "metadata": {},
   "outputs": [
    {
     "name": "stdout",
     "output_type": "stream",
     "text": [
      "WARNING:tensorflow:From /home/marineni0777/.local/lib/python3.5/site-packages/tensorflow/python/framework/op_def_library.py:263: colocate_with (from tensorflow.python.framework.ops) is deprecated and will be removed in a future version.\n",
      "Instructions for updating:\n",
      "Colocations handled automatically by placer.\n",
      "WARNING:tensorflow:From /usr/local/lib/python3.5/dist-packages/keras/backend/tensorflow_backend.py:3445: calling dropout (from tensorflow.python.ops.nn_ops) with keep_prob is deprecated and will be removed in a future version.\n",
      "Instructions for updating:\n",
      "Please use `rate` instead of `keep_prob`. Rate should be set to `rate = 1 - keep_prob`.\n",
      "WARNING:tensorflow:From /home/marineni0777/.local/lib/python3.5/site-packages/tensorflow/python/ops/math_ops.py:3066: to_int32 (from tensorflow.python.ops.math_ops) is deprecated and will be removed in a future version.\n",
      "Instructions for updating:\n",
      "Use tf.cast instead.\n"
     ]
    }
   ],
   "source": [
    "from keras.models import load_model\n",
    "model = load_model('keras_aug_4_15_12.h5')"
   ]
  },
  {
   "cell_type": "code",
   "execution_count": 3,
   "metadata": {},
   "outputs": [
    {
     "name": "stdout",
     "output_type": "stream",
     "text": [
      "_________________________________________________________________\n",
      "Layer (type)                 Output Shape              Param #   \n",
      "=================================================================\n",
      "vgg19 (Model)                (None, 6, 6, 512)         20024384  \n",
      "_________________________________________________________________\n",
      "flatten_1 (Flatten)          (None, 18432)             0         \n",
      "_________________________________________________________________\n",
      "dense_1 (Dense)              (None, 1024)              18875392  \n",
      "_________________________________________________________________\n",
      "dropout_1 (Dropout)          (None, 1024)              0         \n",
      "_________________________________________________________________\n",
      "dense_2 (Dense)              (None, 256)               262400    \n",
      "_________________________________________________________________\n",
      "dense_3 (Dense)              (None, 64)                16448     \n",
      "_________________________________________________________________\n",
      "dense_4 (Dense)              (None, 12)                780       \n",
      "=================================================================\n",
      "Total params: 39,179,404\n",
      "Trainable params: 39,140,684\n",
      "Non-trainable params: 38,720\n",
      "_________________________________________________________________\n"
     ]
    }
   ],
   "source": [
    "model.summary()"
   ]
  },
  {
   "cell_type": "code",
   "execution_count": 4,
   "metadata": {},
   "outputs": [
    {
     "name": "stdout",
     "output_type": "stream",
     "text": [
      "_________________________________________________________________\n",
      "Layer (type)                 Output Shape              Param #   \n",
      "=================================================================\n",
      "input_1 (InputLayer)         (None, 196, 196, 3)       0         \n",
      "_________________________________________________________________\n",
      "block1_conv1 (Conv2D)        (None, 196, 196, 64)      1792      \n",
      "_________________________________________________________________\n",
      "block1_conv2 (Conv2D)        (None, 196, 196, 64)      36928     \n",
      "_________________________________________________________________\n",
      "block1_pool (MaxPooling2D)   (None, 98, 98, 64)        0         \n",
      "_________________________________________________________________\n",
      "block2_conv1 (Conv2D)        (None, 98, 98, 128)       73856     \n",
      "_________________________________________________________________\n",
      "block2_conv2 (Conv2D)        (None, 98, 98, 128)       147584    \n",
      "_________________________________________________________________\n",
      "block2_pool (MaxPooling2D)   (None, 49, 49, 128)       0         \n",
      "_________________________________________________________________\n",
      "block3_conv1 (Conv2D)        (None, 49, 49, 256)       295168    \n",
      "_________________________________________________________________\n",
      "block3_conv2 (Conv2D)        (None, 49, 49, 256)       590080    \n",
      "_________________________________________________________________\n",
      "block3_conv3 (Conv2D)        (None, 49, 49, 256)       590080    \n",
      "_________________________________________________________________\n",
      "block3_conv4 (Conv2D)        (None, 49, 49, 256)       590080    \n",
      "_________________________________________________________________\n",
      "block3_pool (MaxPooling2D)   (None, 24, 24, 256)       0         \n",
      "_________________________________________________________________\n",
      "block4_conv1 (Conv2D)        (None, 24, 24, 512)       1180160   \n",
      "_________________________________________________________________\n",
      "block4_conv2 (Conv2D)        (None, 24, 24, 512)       2359808   \n",
      "_________________________________________________________________\n",
      "block4_conv3 (Conv2D)        (None, 24, 24, 512)       2359808   \n",
      "_________________________________________________________________\n",
      "block4_conv4 (Conv2D)        (None, 24, 24, 512)       2359808   \n",
      "_________________________________________________________________\n",
      "block4_pool (MaxPooling2D)   (None, 12, 12, 512)       0         \n",
      "_________________________________________________________________\n",
      "block5_conv1 (Conv2D)        (None, 12, 12, 512)       2359808   \n",
      "_________________________________________________________________\n",
      "block5_conv2 (Conv2D)        (None, 12, 12, 512)       2359808   \n",
      "_________________________________________________________________\n",
      "block5_conv3 (Conv2D)        (None, 12, 12, 512)       2359808   \n",
      "_________________________________________________________________\n",
      "block5_conv4 (Conv2D)        (None, 12, 12, 512)       2359808   \n",
      "_________________________________________________________________\n",
      "block5_pool (MaxPooling2D)   (None, 6, 6, 512)         0         \n",
      "=================================================================\n",
      "Total params: 20,024,384\n",
      "Trainable params: 19,985,664\n",
      "Non-trainable params: 38,720\n",
      "_________________________________________________________________\n"
     ]
    }
   ],
   "source": [
    "model.layers[0].summary()"
   ]
  },
  {
   "cell_type": "code",
   "execution_count": 5,
   "metadata": {},
   "outputs": [
    {
     "name": "stdout",
     "output_type": "stream",
     "text": [
      "Found 360 images belonging to 12 classes.\n"
     ]
    }
   ],
   "source": [
    "test_dir = './Plant-Seedlings-Classification/validation'\n",
    "test_datagen = ImageDataGenerator(rescale=1./255)\n",
    "\n",
    "test_generator = test_datagen.flow_from_directory(\n",
    "        test_dir,\n",
    "        target_size=(196, 196),\n",
    "        color_mode=\"rgb\",\n",
    "        shuffle = False,\n",
    "        class_mode='categorical',\n",
    "        batch_size=1)\n",
    "\n",
    "filenames = test_generator.filenames\n",
    "nb_samples = len(filenames)\n",
    "\n",
    "predict = model.predict_generator(test_generator,steps = nb_samples)"
   ]
  },
  {
   "cell_type": "code",
   "execution_count": 6,
   "metadata": {},
   "outputs": [
    {
     "data": {
      "text/plain": [
       "(360, 12)"
      ]
     },
     "execution_count": 6,
     "metadata": {},
     "output_type": "execute_result"
    }
   ],
   "source": [
    "predict.shape"
   ]
  },
  {
   "cell_type": "code",
   "execution_count": 7,
   "metadata": {},
   "outputs": [],
   "source": [
    "predict_labels = np.argmax(predict, axis=1)\n",
    "val_labels = np.zeros(predict_labels.size, dtype=int)\n",
    "for i in range(12):\n",
    "    for j in range(30):\n",
    "        val_labels[i*30+j] = int(i);"
   ]
  },
  {
   "cell_type": "code",
   "execution_count": 8,
   "metadata": {},
   "outputs": [
    {
     "data": {
      "text/plain": [
       "array([ 0,  0,  0,  0,  0,  0,  0,  0,  0,  0,  0,  0,  0,  0,  0,  0,  0,\n",
       "        0,  0,  0,  0,  0,  0,  0,  0,  0,  0,  0,  0,  0,  1,  1,  1,  1,\n",
       "        1,  1,  1,  1,  1,  1,  1,  1,  1,  1,  1,  1,  1,  1,  1,  1,  1,\n",
       "        1,  1,  1,  1,  1,  1,  1,  1,  1,  2,  2,  2,  2,  2,  2,  2,  2,\n",
       "        2,  2,  2,  2,  2,  2,  2,  2,  2,  2,  2,  2,  2,  2,  2,  2,  2,\n",
       "        2,  2,  2,  2,  2,  3,  3,  3,  3,  3,  3,  3,  3,  3,  3,  3,  3,\n",
       "        3,  3,  3,  3,  3,  3,  3,  3,  3,  3,  3,  3,  3,  3,  3,  3,  3,\n",
       "        3,  4,  4,  4,  4,  4,  4,  4,  4,  4,  4,  4,  4,  4,  4,  4,  4,\n",
       "        4,  4,  4,  4,  4,  4,  4,  4,  4,  4,  4,  4,  4,  4,  5,  5,  5,\n",
       "        5,  5,  5,  5,  5,  5,  5,  5,  5,  5,  5,  5,  5,  5,  5,  5,  5,\n",
       "        5,  5,  5,  5,  5,  5,  5,  5,  5,  5,  6,  6,  6,  6,  6,  6,  6,\n",
       "        6,  6,  6,  6,  6,  6,  6,  6,  6,  6,  6,  6,  6,  6,  6,  6,  6,\n",
       "        6,  6,  6,  6,  6,  6,  7,  7,  7,  7,  7,  7,  7,  7,  7,  7,  7,\n",
       "        7,  7,  7,  7,  7,  7,  7,  7,  7,  7,  7,  7,  7,  7,  7,  7,  7,\n",
       "        7,  7,  8,  8,  8,  8,  8,  8,  8,  8,  8,  8,  8,  8,  8,  8,  8,\n",
       "        8,  8,  8,  8,  8,  8,  8,  8,  8,  8,  8,  8,  8,  8,  8,  9,  9,\n",
       "        9,  9,  9,  9,  9,  9,  9,  9,  9,  9,  9,  9,  9,  9,  9,  9,  9,\n",
       "        9,  9,  9,  9,  9,  9,  9,  9,  9,  9,  9, 10, 10, 10, 10, 10, 10,\n",
       "       10, 10, 10, 10, 10, 10, 10, 10, 10, 10, 10, 10, 10, 10, 10, 10, 10,\n",
       "       10, 10, 10, 10, 10, 10, 10, 11, 11, 11, 11, 11, 11, 11, 11, 11, 11,\n",
       "       11, 11, 11, 11, 11, 11, 11, 11, 11, 11, 11, 11, 11, 11, 11, 11, 11,\n",
       "       11, 11, 11])"
      ]
     },
     "execution_count": 8,
     "metadata": {},
     "output_type": "execute_result"
    }
   ],
   "source": [
    "val_labels"
   ]
  },
  {
   "cell_type": "code",
   "execution_count": 9,
   "metadata": {},
   "outputs": [
    {
     "data": {
      "text/plain": [
       "array([[23,  0,  0,  0,  0,  0,  7,  0,  0,  0,  0,  0],\n",
       "       [ 0, 30,  0,  0,  0,  0,  0,  0,  0,  0,  0,  0],\n",
       "       [ 0,  0, 30,  0,  0,  0,  0,  0,  0,  0,  0,  0],\n",
       "       [ 0,  0,  0, 29,  0,  0,  0,  0,  0,  0,  0,  1],\n",
       "       [ 0,  0,  0,  0, 30,  0,  0,  0,  0,  0,  0,  0],\n",
       "       [ 0,  0,  0,  0,  0, 30,  0,  0,  0,  0,  0,  0],\n",
       "       [ 3,  0,  0,  0,  0,  0, 27,  0,  0,  0,  0,  0],\n",
       "       [ 0,  0,  0,  0,  0,  0,  1, 29,  0,  0,  0,  0],\n",
       "       [ 0,  0,  0,  0,  0,  0,  0,  0, 30,  0,  0,  0],\n",
       "       [ 0,  0,  0,  0,  0,  0,  0,  0,  1, 29,  0,  0],\n",
       "       [ 0,  0,  0,  0,  0,  0,  0,  1,  0,  0, 29,  0],\n",
       "       [ 0,  0,  0,  0,  0,  0,  0,  0,  0,  0,  0, 30]])"
      ]
     },
     "execution_count": 9,
     "metadata": {},
     "output_type": "execute_result"
    }
   ],
   "source": [
    "from sklearn.metrics import confusion_matrix \n",
    "confusion_matrix(val_labels, predict_labels)"
   ]
  },
  {
   "cell_type": "code",
   "execution_count": 10,
   "metadata": {},
   "outputs": [
    {
     "name": "stdout",
     "output_type": "stream",
     "text": [
      "Sugar beet\n",
      "Shepherds Purse\n",
      "Scentless Mayweed\n",
      "Charlock\n",
      "Cleavers\n",
      "Maize\n",
      "Loose Silky-bent\n",
      "Common wheat\n",
      "Fat Hen\n",
      "Small-flowered Cranesbill\n",
      "Black-grass\n",
      "Common Chickweed\n"
     ]
    }
   ],
   "source": [
    "for each_dir in os.listdir(test_dir):\n",
    "    print(each_dir)"
   ]
  },
  {
   "cell_type": "code",
   "execution_count": 11,
   "metadata": {},
   "outputs": [
    {
     "data": {
      "text/plain": [
       "{'Black-grass': 0,\n",
       " 'Charlock': 1,\n",
       " 'Cleavers': 2,\n",
       " 'Common Chickweed': 3,\n",
       " 'Common wheat': 4,\n",
       " 'Fat Hen': 5,\n",
       " 'Loose Silky-bent': 6,\n",
       " 'Maize': 7,\n",
       " 'Scentless Mayweed': 8,\n",
       " 'Shepherds Purse': 9,\n",
       " 'Small-flowered Cranesbill': 10,\n",
       " 'Sugar beet': 11}"
      ]
     },
     "execution_count": 11,
     "metadata": {},
     "output_type": "execute_result"
    }
   ],
   "source": [
    "test_generator.class_indices\n"
   ]
  },
  {
   "cell_type": "code",
   "execution_count": 3,
   "metadata": {},
   "outputs": [
    {
     "ename": "FileNotFoundError",
     "evalue": "[Errno 2] No such file or directory: './Plant-Seedlings-Classification/validation/'",
     "output_type": "error",
     "traceback": [
      "\u001b[0;31m---------------------------------------------------------------------------\u001b[0m",
      "\u001b[0;31mFileNotFoundError\u001b[0m                         Traceback (most recent call last)",
      "\u001b[0;32m<ipython-input-3-bc975880d6c6>\u001b[0m in \u001b[0;36m<module>\u001b[0;34m\u001b[0m\n\u001b[1;32m      2\u001b[0m \u001b[0mval_dir\u001b[0m \u001b[0;34m=\u001b[0m\u001b[0;34m'./Plant-Seedlings-Classification/validation/'\u001b[0m\u001b[0;34m\u001b[0m\u001b[0m\n\u001b[1;32m      3\u001b[0m \u001b[0;34m\u001b[0m\u001b[0m\n\u001b[0;32m----> 4\u001b[0;31m \u001b[0;32mfor\u001b[0m \u001b[0meach_dir\u001b[0m \u001b[0;32min\u001b[0m \u001b[0mos\u001b[0m\u001b[0;34m.\u001b[0m\u001b[0mlistdir\u001b[0m\u001b[0;34m(\u001b[0m\u001b[0mval_dir\u001b[0m\u001b[0;34m)\u001b[0m\u001b[0;34m:\u001b[0m\u001b[0;34m\u001b[0m\u001b[0m\n\u001b[0m\u001b[1;32m      5\u001b[0m     \u001b[0;31m#print(each_dir)\u001b[0m\u001b[0;34m\u001b[0m\u001b[0;34m\u001b[0m\u001b[0m\n\u001b[1;32m      6\u001b[0m     \u001b[0;32mfor\u001b[0m \u001b[0meach_file\u001b[0m \u001b[0;32min\u001b[0m \u001b[0mos\u001b[0m\u001b[0;34m.\u001b[0m\u001b[0mlistdir\u001b[0m\u001b[0;34m(\u001b[0m\u001b[0mos\u001b[0m\u001b[0;34m.\u001b[0m\u001b[0mpath\u001b[0m\u001b[0;34m.\u001b[0m\u001b[0mjoin\u001b[0m\u001b[0;34m(\u001b[0m\u001b[0mval_dir\u001b[0m\u001b[0;34m,\u001b[0m \u001b[0meach_dir\u001b[0m\u001b[0;34m)\u001b[0m\u001b[0;34m)\u001b[0m\u001b[0;34m:\u001b[0m\u001b[0;34m\u001b[0m\u001b[0m\n",
      "\u001b[0;31mFileNotFoundError\u001b[0m: [Errno 2] No such file or directory: './Plant-Seedlings-Classification/validation/'"
     ]
    }
   ],
   "source": [
    "train_dir = './train/'\n",
    "val_dir ='./Plant-Seedlings-Classification/validation/'\n",
    "\n",
    "for each_dir in os.listdir(val_dir):\n",
    "    #print(each_dir)\n",
    "    for each_file in os.listdir(os.path.join(val_dir, each_dir)):\n",
    "        path = os.path.join(train_dir, each_dir, each_file)\n",
    "        #os.remove(path)\n",
    "        #print(path)"
   ]
  },
  {
   "cell_type": "code",
   "execution_count": 4,
   "metadata": {},
   "outputs": [
    {
     "ename": "FileNotFoundError",
     "evalue": "[Errno 2] No such file or directory: './train/Black-grass'",
     "output_type": "error",
     "traceback": [
      "\u001b[0;31m---------------------------------------------------------------------------\u001b[0m",
      "\u001b[0;31mFileNotFoundError\u001b[0m                         Traceback (most recent call last)",
      "\u001b[0;32m<ipython-input-4-5af2a3d9f07d>\u001b[0m in \u001b[0;36m<module>\u001b[0;34m\u001b[0m\n\u001b[1;32m      6\u001b[0m     \u001b[0msrc_path\u001b[0m \u001b[0;34m=\u001b[0m \u001b[0mos\u001b[0m\u001b[0;34m.\u001b[0m\u001b[0mpath\u001b[0m\u001b[0;34m.\u001b[0m\u001b[0mjoin\u001b[0m\u001b[0;34m(\u001b[0m\u001b[0mtrain_dir\u001b[0m\u001b[0;34m,\u001b[0m \u001b[0meach_dir\u001b[0m\u001b[0;34m)\u001b[0m\u001b[0;34m\u001b[0m\u001b[0m\n\u001b[1;32m      7\u001b[0m     \u001b[0mdest_path\u001b[0m \u001b[0;34m=\u001b[0m \u001b[0mos\u001b[0m\u001b[0;34m.\u001b[0m\u001b[0mpath\u001b[0m\u001b[0;34m.\u001b[0m\u001b[0mjoin\u001b[0m\u001b[0;34m(\u001b[0m\u001b[0mtrain2_dir\u001b[0m\u001b[0;34m,\u001b[0m \u001b[0meach_dir\u001b[0m\u001b[0;34m)\u001b[0m\u001b[0;34m\u001b[0m\u001b[0m\n\u001b[0;32m----> 8\u001b[0;31m     \u001b[0mshutil\u001b[0m\u001b[0;34m.\u001b[0m\u001b[0mcopytree\u001b[0m\u001b[0;34m(\u001b[0m\u001b[0msrc_path\u001b[0m\u001b[0;34m,\u001b[0m \u001b[0mdest_path\u001b[0m\u001b[0;34m)\u001b[0m\u001b[0;34m\u001b[0m\u001b[0m\n\u001b[0m\u001b[1;32m      9\u001b[0m \u001b[0;34m\u001b[0m\u001b[0m\n\u001b[1;32m     10\u001b[0m \u001b[0;32mfor\u001b[0m \u001b[0meach_dir\u001b[0m \u001b[0;32min\u001b[0m \u001b[0mdata2\u001b[0m\u001b[0;34m:\u001b[0m\u001b[0;34m\u001b[0m\u001b[0m\n",
      "\u001b[0;32m/usr/lib/python3.5/shutil.py\u001b[0m in \u001b[0;36mcopytree\u001b[0;34m(src, dst, symlinks, ignore, copy_function, ignore_dangling_symlinks)\u001b[0m\n\u001b[1;32m    307\u001b[0m \u001b[0;34m\u001b[0m\u001b[0m\n\u001b[1;32m    308\u001b[0m     \"\"\"\n\u001b[0;32m--> 309\u001b[0;31m     \u001b[0mnames\u001b[0m \u001b[0;34m=\u001b[0m \u001b[0mos\u001b[0m\u001b[0;34m.\u001b[0m\u001b[0mlistdir\u001b[0m\u001b[0;34m(\u001b[0m\u001b[0msrc\u001b[0m\u001b[0;34m)\u001b[0m\u001b[0;34m\u001b[0m\u001b[0m\n\u001b[0m\u001b[1;32m    310\u001b[0m     \u001b[0;32mif\u001b[0m \u001b[0mignore\u001b[0m \u001b[0;32mis\u001b[0m \u001b[0;32mnot\u001b[0m \u001b[0;32mNone\u001b[0m\u001b[0;34m:\u001b[0m\u001b[0;34m\u001b[0m\u001b[0m\n\u001b[1;32m    311\u001b[0m         \u001b[0mignored_names\u001b[0m \u001b[0;34m=\u001b[0m \u001b[0mignore\u001b[0m\u001b[0;34m(\u001b[0m\u001b[0msrc\u001b[0m\u001b[0;34m,\u001b[0m \u001b[0mnames\u001b[0m\u001b[0;34m)\u001b[0m\u001b[0;34m\u001b[0m\u001b[0m\n",
      "\u001b[0;31mFileNotFoundError\u001b[0m: [Errno 2] No such file or directory: './train/Black-grass'"
     ]
    }
   ],
   "source": [
    "train2_dir = './train2'\n",
    "val2_dir = './validation2'\n",
    "data2 = ['Black-grass', 'Loose Silky-bent']\n",
    "\n",
    "for each_dir in data2:\n",
    "    src_path = os.path.join(train_dir, each_dir)\n",
    "    dest_path = os.path.join(train2_dir, each_dir)\n",
    "    shutil.copytree(src_path, dest_path)\n",
    "    \n",
    "for each_dir in data2:\n",
    "    src_path = os.path.join(val_dir, each_dir)\n",
    "    dest_path = os.path.join(val2_dir, each_dir)\n",
    "    shutil.copytree(src_path, dest_path)\n",
    "    \n",
    "\n"
   ]
  },
  {
   "cell_type": "code",
   "execution_count": 7,
   "metadata": {},
   "outputs": [],
   "source": [
    "# MODEL SMALL FOR BINARY CLASSIFICATION FOR CLASS 0 AND CLASS 6\n",
    "#parameters\n",
    "classes_2 = 2\n",
    "image_size = 224\n",
    "batch_size =30"
   ]
  },
  {
   "cell_type": "code",
   "execution_count": 3,
   "metadata": {},
   "outputs": [
    {
     "name": "stdout",
     "output_type": "stream",
     "text": [
      "WARNING:tensorflow:From /home/marineni0777/.local/lib/python3.5/site-packages/tensorflow/python/framework/op_def_library.py:263: colocate_with (from tensorflow.python.framework.ops) is deprecated and will be removed in a future version.\n",
      "Instructions for updating:\n",
      "Colocations handled automatically by placer.\n"
     ]
    }
   ],
   "source": [
    "model_mobilenet_2 = MobileNet(include_top=False, weights = 'imagenet',input_shape=(image_size,image_size,3), alpha=0.5)"
   ]
  },
  {
   "cell_type": "code",
   "execution_count": 4,
   "metadata": {},
   "outputs": [
    {
     "name": "stdout",
     "output_type": "stream",
     "text": [
      "WARNING:tensorflow:From /usr/local/lib/python3.5/dist-packages/keras/backend/tensorflow_backend.py:3445: calling dropout (from tensorflow.python.ops.nn_ops) with keep_prob is deprecated and will be removed in a future version.\n",
      "Instructions for updating:\n",
      "Please use `rate` instead of `keep_prob`. Rate should be set to `rate = 1 - keep_prob`.\n"
     ]
    }
   ],
   "source": [
    "x = model_mobilenet_2.output\n",
    "x = GlobalAveragePooling2D()(x)\n",
    "x = Dense(64, activation='relu')(x)\n",
    "x = Dropout(0.5)(x)\n",
    "x = Dense(classes_2, activation='softmax')(x)"
   ]
  },
  {
   "cell_type": "code",
   "execution_count": 5,
   "metadata": {},
   "outputs": [],
   "source": [
    "model_2 = Model(inputs=model_mobilenet_2.input, outputs=x)"
   ]
  },
  {
   "cell_type": "code",
   "execution_count": 8,
   "metadata": {},
   "outputs": [
    {
     "name": "stdout",
     "output_type": "stream",
     "text": [
      "Found 857 images belonging to 2 classes.\n",
      "Found 60 images belonging to 2 classes.\n"
     ]
    }
   ],
   "source": [
    "train2_dir = './train2'\n",
    "val2_dir = './validation2'\n",
    "train_datagen = ImageDataGenerator(rescale=1./255,\n",
    "                                   shear_range = 0.2,\n",
    "                                   rotation_range = 20,\n",
    "                                   height_shift_range=0.2,\n",
    "                                   width_shift_range=0.2,\n",
    "                                   zoom_range=0.2,\n",
    "                                   fill_mode='reflect',\n",
    "                                   horizontal_flip=True,\n",
    "                                   vertical_flip=True)\n",
    "validation_datagen = ImageDataGenerator(rescale = 1./255)\n",
    "\n",
    "train_generator_2 = train_datagen.flow_from_directory(\n",
    "                    train2_dir,\n",
    "                    target_size=(image_size,image_size),\n",
    "                    batch_size=batch_size,\n",
    "                    class_mode='categorical',\n",
    "                    shuffle=True\n",
    "                    )\n",
    "validation_generator_2 = validation_datagen.flow_from_directory(\n",
    "                        val2_dir,\n",
    "                        target_size=(image_size,image_size),\n",
    "                        batch_size=batch_size,\n",
    "                        class_mode='categorical')\n"
   ]
  },
  {
   "cell_type": "code",
   "execution_count": 7,
   "metadata": {},
   "outputs": [
    {
     "data": {
      "text/plain": [
       "{'Black-grass': 0, 'Loose Silky-bent': 1}"
      ]
     },
     "execution_count": 7,
     "metadata": {},
     "output_type": "execute_result"
    }
   ],
   "source": [
    "train_generator_2.class_indices"
   ]
  },
  {
   "cell_type": "code",
   "execution_count": 10,
   "metadata": {},
   "outputs": [],
   "source": [
    "model_2.compile(loss='categorical_crossentropy',\n",
    "             optimizer=RMSprop(lr=1e-4),\n",
    "             metrics=['accuracy'])"
   ]
  },
  {
   "cell_type": "code",
   "execution_count": 11,
   "metadata": {},
   "outputs": [],
   "source": []
  },
  {
   "cell_type": "code",
   "execution_count": 12,
   "metadata": {},
   "outputs": [
    {
     "name": "stdout",
     "output_type": "stream",
     "text": [
      "Epoch 1/30\n",
      " - 25s - loss: 0.4977 - acc: 0.7752 - val_loss: 0.6848 - val_acc: 0.6833\n",
      "Epoch 2/30\n",
      " - 23s - loss: 0.5159 - acc: 0.7678 - val_loss: 0.7779 - val_acc: 0.6000\n",
      "Epoch 3/30\n",
      " - 23s - loss: 0.4794 - acc: 0.7738 - val_loss: 0.8060 - val_acc: 0.5667\n",
      "Epoch 4/30\n",
      " - 24s - loss: 0.4656 - acc: 0.7879 - val_loss: 0.7209 - val_acc: 0.6500\n",
      "Epoch 5/30\n",
      " - 23s - loss: 0.4445 - acc: 0.7901 - val_loss: 0.6545 - val_acc: 0.7333\n",
      "Epoch 6/30\n",
      " - 22s - loss: 0.4644 - acc: 0.7934 - val_loss: 0.7527 - val_acc: 0.6000\n",
      "Epoch 7/30\n",
      " - 24s - loss: 0.4562 - acc: 0.8028 - val_loss: 0.5916 - val_acc: 0.7167\n",
      "Epoch 8/30\n",
      " - 23s - loss: 0.3897 - acc: 0.8469 - val_loss: 0.6407 - val_acc: 0.6500\n",
      "Epoch 9/30\n",
      " - 24s - loss: 0.4412 - acc: 0.8069 - val_loss: 0.6087 - val_acc: 0.7500\n",
      "Epoch 10/30\n",
      " - 23s - loss: 0.3981 - acc: 0.8126 - val_loss: 0.5442 - val_acc: 0.7500\n",
      "Epoch 11/30\n",
      " - 23s - loss: 0.3849 - acc: 0.8367 - val_loss: 0.5527 - val_acc: 0.7333\n",
      "Epoch 12/30\n",
      " - 25s - loss: 0.3545 - acc: 0.8557 - val_loss: 0.4929 - val_acc: 0.7167\n",
      "Epoch 13/30\n",
      " - 23s - loss: 0.3593 - acc: 0.8404 - val_loss: 0.8406 - val_acc: 0.6167\n",
      "Epoch 14/30\n",
      " - 23s - loss: 0.3199 - acc: 0.8641 - val_loss: 0.4900 - val_acc: 0.8167\n",
      "Epoch 15/30\n",
      " - 23s - loss: 0.3395 - acc: 0.8477 - val_loss: 0.6704 - val_acc: 0.7500\n",
      "Epoch 16/30\n",
      " - 24s - loss: 0.3423 - acc: 0.8359 - val_loss: 0.7322 - val_acc: 0.7167\n",
      "Epoch 17/30\n",
      " - 23s - loss: 0.2882 - acc: 0.8833 - val_loss: 1.1102 - val_acc: 0.6333\n",
      "Epoch 18/30\n",
      " - 21s - loss: 0.3189 - acc: 0.8687 - val_loss: 1.4551 - val_acc: 0.6167\n",
      "Epoch 19/30\n",
      " - 23s - loss: 0.2799 - acc: 0.8804 - val_loss: 0.9647 - val_acc: 0.6667\n",
      "Epoch 20/30\n",
      " - 24s - loss: 0.2784 - acc: 0.8769 - val_loss: 0.9307 - val_acc: 0.7333\n",
      "Epoch 21/30\n",
      " - 23s - loss: 0.2783 - acc: 0.8793 - val_loss: 0.5990 - val_acc: 0.8000\n",
      "Epoch 22/30\n",
      " - 23s - loss: 0.2688 - acc: 0.8646 - val_loss: 0.4416 - val_acc: 0.8000\n",
      "Epoch 23/30\n",
      " - 24s - loss: 0.2457 - acc: 0.8922 - val_loss: 0.7885 - val_acc: 0.7833\n",
      "Epoch 24/30\n",
      " - 23s - loss: 0.2212 - acc: 0.9112 - val_loss: 1.1668 - val_acc: 0.6500\n",
      "Epoch 25/30\n",
      " - 24s - loss: 0.2836 - acc: 0.8825 - val_loss: 0.6221 - val_acc: 0.7833\n",
      "Epoch 26/30\n",
      " - 23s - loss: 0.2297 - acc: 0.9014 - val_loss: 0.6658 - val_acc: 0.8500\n",
      "Epoch 27/30\n",
      " - 24s - loss: 0.2145 - acc: 0.9103 - val_loss: 0.6337 - val_acc: 0.7167\n",
      "Epoch 28/30\n",
      " - 23s - loss: 0.2358 - acc: 0.9048 - val_loss: 0.9913 - val_acc: 0.7833\n",
      "Epoch 29/30\n",
      " - 23s - loss: 0.2035 - acc: 0.9218 - val_loss: 0.8002 - val_acc: 0.7500\n",
      "Epoch 30/30\n",
      " - 23s - loss: 0.2141 - acc: 0.9152 - val_loss: 0.7351 - val_acc: 0.7167\n"
     ]
    }
   ],
   "source": [
    "history_2 = model_2.fit_generator(\n",
    "                    train_generator_2,\n",
    "                    steps_per_epoch = int(np.ceil(857/batch_size)),\n",
    "                    epochs=30,\n",
    "                    validation_data=validation_generator_2,\n",
    "                    validation_steps= int(np.ceil(60/batch_size)),\n",
    "                    verbose=2)"
   ]
  },
  {
   "cell_type": "code",
   "execution_count": 13,
   "metadata": {},
   "outputs": [],
   "source": [
    "model_2.save('2classifier-30-e-4.h5')"
   ]
  },
  {
   "cell_type": "code",
   "execution_count": 5,
   "metadata": {},
   "outputs": [],
   "source": [
    "callbacks = [ModelCheckpoint(filepath='2classifier-30-e-5.h5', verbose=1),\n",
    "ReduceLROnPlateau(monitor='val_acc', factor=0.1, patience=10, verbose=1),\n",
    "#EarlyStopping(monitor='val_acc', patience=10, verbose=1),\n",
    "CSVLogger('./10-metrics_model_2.csv')]"
   ]
  },
  {
   "cell_type": "code",
   "execution_count": 10,
   "metadata": {},
   "outputs": [
    {
     "name": "stdout",
     "output_type": "stream",
     "text": [
      "Epoch 1/30\n",
      " - 26s - loss: 0.2020 - acc: 0.9117 - val_loss: 0.5727 - val_acc: 0.8167\n",
      "\n",
      "Epoch 00001: saving model to 2classifier-30-e-5.h5\n",
      "Epoch 2/30\n",
      " - 14s - loss: 0.1777 - acc: 0.9336 - val_loss: 0.5193 - val_acc: 0.8000\n",
      "\n",
      "Epoch 00002: saving model to 2classifier-30-e-5.h5\n",
      "Epoch 3/30\n",
      " - 23s - loss: 0.2214 - acc: 0.9198 - val_loss: 0.5595 - val_acc: 0.7500\n",
      "\n",
      "Epoch 00003: saving model to 2classifier-30-e-5.h5\n",
      "Epoch 4/30\n",
      " - 23s - loss: 0.2241 - acc: 0.9127 - val_loss: 0.7066 - val_acc: 0.7500\n",
      "\n",
      "Epoch 00004: saving model to 2classifier-30-e-5.h5\n",
      "Epoch 5/30\n",
      " - 23s - loss: 0.2047 - acc: 0.9117 - val_loss: 0.6747 - val_acc: 0.8000\n",
      "\n",
      "Epoch 00005: saving model to 2classifier-30-e-5.h5\n",
      "Epoch 6/30\n",
      " - 23s - loss: 0.1707 - acc: 0.9393 - val_loss: 0.9905 - val_acc: 0.7167\n",
      "\n",
      "Epoch 00006: saving model to 2classifier-30-e-5.h5\n",
      "Epoch 7/30\n",
      " - 23s - loss: 0.1895 - acc: 0.9278 - val_loss: 1.0373 - val_acc: 0.6833\n",
      "\n",
      "Epoch 00007: saving model to 2classifier-30-e-5.h5\n",
      "Epoch 8/30\n",
      " - 23s - loss: 0.1876 - acc: 0.9322 - val_loss: 1.0098 - val_acc: 0.7667\n",
      "\n",
      "Epoch 00008: saving model to 2classifier-30-e-5.h5\n",
      "Epoch 9/30\n",
      " - 23s - loss: 0.1819 - acc: 0.9310 - val_loss: 0.8982 - val_acc: 0.7833\n",
      "\n",
      "Epoch 00009: saving model to 2classifier-30-e-5.h5\n",
      "Epoch 10/30\n",
      " - 23s - loss: 0.1888 - acc: 0.9344 - val_loss: 1.3098 - val_acc: 0.6833\n",
      "\n",
      "Epoch 00010: saving model to 2classifier-30-e-5.h5\n",
      "Epoch 11/30\n",
      " - 22s - loss: 0.1656 - acc: 0.9359 - val_loss: 0.7420 - val_acc: 0.7667\n",
      "\n",
      "Epoch 00011: saving model to 2classifier-30-e-5.h5\n",
      "\n",
      "Epoch 00011: ReduceLROnPlateau reducing learning rate to 9.999999747378752e-06.\n",
      "Epoch 12/30\n",
      " - 20s - loss: 0.1667 - acc: 0.9397 - val_loss: 0.7401 - val_acc: 0.8000\n",
      "\n",
      "Epoch 00012: saving model to 2classifier-30-e-5.h5\n",
      "Epoch 13/30\n",
      " - 23s - loss: 0.1498 - acc: 0.9482 - val_loss: 0.7174 - val_acc: 0.8000\n",
      "\n",
      "Epoch 00013: saving model to 2classifier-30-e-5.h5\n",
      "Epoch 14/30\n",
      " - 23s - loss: 0.1633 - acc: 0.9298 - val_loss: 0.6789 - val_acc: 0.8167\n",
      "\n",
      "Epoch 00014: saving model to 2classifier-30-e-5.h5\n",
      "Epoch 15/30\n",
      " - 23s - loss: 0.1518 - acc: 0.9482 - val_loss: 0.7059 - val_acc: 0.8167\n",
      "\n",
      "Epoch 00015: saving model to 2classifier-30-e-5.h5\n",
      "Epoch 16/30\n",
      " - 23s - loss: 0.1583 - acc: 0.9428 - val_loss: 0.6965 - val_acc: 0.8000\n",
      "\n",
      "Epoch 00016: saving model to 2classifier-30-e-5.h5\n",
      "Epoch 17/30\n",
      " - 23s - loss: 0.1494 - acc: 0.9459 - val_loss: 0.6724 - val_acc: 0.7833\n",
      "\n",
      "Epoch 00017: saving model to 2classifier-30-e-5.h5\n",
      "Epoch 18/30\n",
      " - 22s - loss: 0.1369 - acc: 0.9403 - val_loss: 0.6559 - val_acc: 0.7833\n",
      "\n",
      "Epoch 00018: saving model to 2classifier-30-e-5.h5\n",
      "Epoch 19/30\n",
      " - 22s - loss: 0.1376 - acc: 0.9482 - val_loss: 0.6339 - val_acc: 0.7833\n",
      "\n",
      "Epoch 00019: saving model to 2classifier-30-e-5.h5\n",
      "Epoch 20/30\n",
      " - 22s - loss: 0.1471 - acc: 0.9394 - val_loss: 0.6760 - val_acc: 0.8167\n",
      "\n",
      "Epoch 00020: saving model to 2classifier-30-e-5.h5\n",
      "Epoch 21/30\n",
      " - 23s - loss: 0.1261 - acc: 0.9474 - val_loss: 0.6286 - val_acc: 0.7833\n",
      "\n",
      "Epoch 00021: saving model to 2classifier-30-e-5.h5\n",
      "\n",
      "Epoch 00021: ReduceLROnPlateau reducing learning rate to 9.999999747378752e-07.\n",
      "Epoch 22/30\n",
      " - 23s - loss: 0.1347 - acc: 0.9509 - val_loss: 0.6184 - val_acc: 0.8000\n",
      "\n",
      "Epoch 00022: saving model to 2classifier-30-e-5.h5\n",
      "Epoch 23/30\n",
      " - 23s - loss: 0.1414 - acc: 0.9370 - val_loss: 0.6118 - val_acc: 0.8000\n",
      "\n",
      "Epoch 00023: saving model to 2classifier-30-e-5.h5\n",
      "Epoch 24/30\n",
      " - 23s - loss: 0.1287 - acc: 0.9471 - val_loss: 0.6104 - val_acc: 0.8000\n",
      "\n",
      "Epoch 00024: saving model to 2classifier-30-e-5.h5\n",
      "Epoch 25/30\n",
      " - 23s - loss: 0.1287 - acc: 0.9526 - val_loss: 0.6064 - val_acc: 0.8000\n",
      "\n",
      "Epoch 00025: saving model to 2classifier-30-e-5.h5\n",
      "Epoch 26/30\n",
      " - 22s - loss: 0.1244 - acc: 0.9574 - val_loss: 0.6012 - val_acc: 0.8000\n",
      "\n",
      "Epoch 00026: saving model to 2classifier-30-e-5.h5\n",
      "Epoch 27/30\n",
      " - 23s - loss: 0.1282 - acc: 0.9448 - val_loss: 0.5986 - val_acc: 0.8000\n",
      "\n",
      "Epoch 00027: saving model to 2classifier-30-e-5.h5\n",
      "Epoch 28/30\n",
      " - 23s - loss: 0.1341 - acc: 0.9463 - val_loss: 0.5937 - val_acc: 0.8000\n",
      "\n",
      "Epoch 00028: saving model to 2classifier-30-e-5.h5\n",
      "Epoch 29/30\n",
      " - 23s - loss: 0.1574 - acc: 0.9305 - val_loss: 0.5870 - val_acc: 0.8000\n",
      "\n",
      "Epoch 00029: saving model to 2classifier-30-e-5.h5\n",
      "Epoch 30/30\n",
      " - 22s - loss: 0.1552 - acc: 0.9298 - val_loss: 0.5869 - val_acc: 0.8000\n",
      "\n",
      "Epoch 00030: saving model to 2classifier-30-e-5.h5\n"
     ]
    }
   ],
   "source": [
    "model_2 = keras.models.load_model('2classifier-30-e-4.h5')\n",
    "history_2 = model_2.fit_generator(\n",
    "                    train_generator_2,\n",
    "                    steps_per_epoch = int(np.ceil(857/batch_size)),\n",
    "                    epochs=30,\n",
    "                    validation_data=validation_generator_2,\n",
    "                    validation_steps= int(np.ceil(60/batch_size)),\n",
    "                    verbose=2,\n",
    "                    callbacks=callbacks)"
   ]
  },
  {
   "cell_type": "code",
   "execution_count": 12,
   "metadata": {},
   "outputs": [],
   "source": [
    "model_2.save('2clasifier_30_epochs.h5')"
   ]
  },
  {
   "cell_type": "code",
   "execution_count": 9,
   "metadata": {
    "collapsed": true
   },
   "outputs": [
    {
     "name": "stdout",
     "output_type": "stream",
     "text": [
      "WARNING:tensorflow:From /home/marineni0777/.local/lib/python3.5/site-packages/tensorflow/python/ops/math_ops.py:3066: to_int32 (from tensorflow.python.ops.math_ops) is deprecated and will be removed in a future version.\n",
      "Instructions for updating:\n",
      "Use tf.cast instead.\n",
      "Epoch 1/30\n",
      " - 25s - loss: 0.5659 - acc: 0.7209 - val_loss: 0.8112 - val_acc: 0.6167\n",
      "Epoch 2/30\n",
      " - 23s - loss: 0.5492 - acc: 0.7459 - val_loss: 0.8175 - val_acc: 0.6333\n",
      "Epoch 3/30\n",
      " - 24s - loss: 0.5620 - acc: 0.7177 - val_loss: 0.8194 - val_acc: 0.6333\n",
      "Epoch 4/30\n",
      " - 24s - loss: 0.5350 - acc: 0.7433 - val_loss: 0.8134 - val_acc: 0.6167\n",
      "Epoch 5/30\n",
      " - 23s - loss: 0.5429 - acc: 0.7536 - val_loss: 0.8219 - val_acc: 0.6167\n",
      "Epoch 6/30\n",
      " - 23s - loss: 0.5521 - acc: 0.7296 - val_loss: 0.8161 - val_acc: 0.6000\n",
      "Epoch 7/30\n",
      " - 24s - loss: 0.5530 - acc: 0.7385 - val_loss: 0.7859 - val_acc: 0.6167\n",
      "Epoch 8/30\n"
     ]
    },
    {
     "ename": "KeyboardInterrupt",
     "evalue": "",
     "output_type": "error",
     "traceback": [
      "\u001b[0;31m---------------------------------------------------------------------------\u001b[0m",
      "\u001b[0;31mKeyboardInterrupt\u001b[0m                         Traceback (most recent call last)",
      "\u001b[0;32m<ipython-input-9-dcddf196fa0a>\u001b[0m in \u001b[0;36m<module>\u001b[0;34m\u001b[0m\n\u001b[1;32m      6\u001b[0m                     \u001b[0mvalidation_data\u001b[0m\u001b[0;34m=\u001b[0m\u001b[0mvalidation_generator_2\u001b[0m\u001b[0;34m,\u001b[0m\u001b[0;34m\u001b[0m\u001b[0m\n\u001b[1;32m      7\u001b[0m                     \u001b[0mvalidation_steps\u001b[0m\u001b[0;34m=\u001b[0m \u001b[0mint\u001b[0m\u001b[0;34m(\u001b[0m\u001b[0mnp\u001b[0m\u001b[0;34m.\u001b[0m\u001b[0mceil\u001b[0m\u001b[0;34m(\u001b[0m\u001b[0;36m60\u001b[0m\u001b[0;34m/\u001b[0m\u001b[0mbatch_size\u001b[0m\u001b[0;34m)\u001b[0m\u001b[0;34m)\u001b[0m\u001b[0;34m,\u001b[0m\u001b[0;34m\u001b[0m\u001b[0m\n\u001b[0;32m----> 8\u001b[0;31m                     verbose=2)\n\u001b[0m",
      "\u001b[0;32m/usr/local/lib/python3.5/dist-packages/keras/legacy/interfaces.py\u001b[0m in \u001b[0;36mwrapper\u001b[0;34m(*args, **kwargs)\u001b[0m\n\u001b[1;32m     89\u001b[0m                 warnings.warn('Update your `' + object_name + '` call to the ' +\n\u001b[1;32m     90\u001b[0m                               'Keras 2 API: ' + signature, stacklevel=2)\n\u001b[0;32m---> 91\u001b[0;31m             \u001b[0;32mreturn\u001b[0m \u001b[0mfunc\u001b[0m\u001b[0;34m(\u001b[0m\u001b[0;34m*\u001b[0m\u001b[0margs\u001b[0m\u001b[0;34m,\u001b[0m \u001b[0;34m**\u001b[0m\u001b[0mkwargs\u001b[0m\u001b[0;34m)\u001b[0m\u001b[0;34m\u001b[0m\u001b[0m\n\u001b[0m\u001b[1;32m     92\u001b[0m         \u001b[0mwrapper\u001b[0m\u001b[0;34m.\u001b[0m\u001b[0m_original_function\u001b[0m \u001b[0;34m=\u001b[0m \u001b[0mfunc\u001b[0m\u001b[0;34m\u001b[0m\u001b[0m\n\u001b[1;32m     93\u001b[0m         \u001b[0;32mreturn\u001b[0m \u001b[0mwrapper\u001b[0m\u001b[0;34m\u001b[0m\u001b[0m\n",
      "\u001b[0;32m/usr/local/lib/python3.5/dist-packages/keras/engine/training.py\u001b[0m in \u001b[0;36mfit_generator\u001b[0;34m(self, generator, steps_per_epoch, epochs, verbose, callbacks, validation_data, validation_steps, class_weight, max_queue_size, workers, use_multiprocessing, shuffle, initial_epoch)\u001b[0m\n\u001b[1;32m   1416\u001b[0m             \u001b[0muse_multiprocessing\u001b[0m\u001b[0;34m=\u001b[0m\u001b[0muse_multiprocessing\u001b[0m\u001b[0;34m,\u001b[0m\u001b[0;34m\u001b[0m\u001b[0m\n\u001b[1;32m   1417\u001b[0m             \u001b[0mshuffle\u001b[0m\u001b[0;34m=\u001b[0m\u001b[0mshuffle\u001b[0m\u001b[0;34m,\u001b[0m\u001b[0;34m\u001b[0m\u001b[0m\n\u001b[0;32m-> 1418\u001b[0;31m             initial_epoch=initial_epoch)\n\u001b[0m\u001b[1;32m   1419\u001b[0m \u001b[0;34m\u001b[0m\u001b[0m\n\u001b[1;32m   1420\u001b[0m     \u001b[0;34m@\u001b[0m\u001b[0minterfaces\u001b[0m\u001b[0;34m.\u001b[0m\u001b[0mlegacy_generator_methods_support\u001b[0m\u001b[0;34m\u001b[0m\u001b[0m\n",
      "\u001b[0;32m/usr/local/lib/python3.5/dist-packages/keras/engine/training_generator.py\u001b[0m in \u001b[0;36mfit_generator\u001b[0;34m(model, generator, steps_per_epoch, epochs, verbose, callbacks, validation_data, validation_steps, class_weight, max_queue_size, workers, use_multiprocessing, shuffle, initial_epoch)\u001b[0m\n\u001b[1;32m    179\u001b[0m             \u001b[0mbatch_index\u001b[0m \u001b[0;34m=\u001b[0m \u001b[0;36m0\u001b[0m\u001b[0;34m\u001b[0m\u001b[0m\n\u001b[1;32m    180\u001b[0m             \u001b[0;32mwhile\u001b[0m \u001b[0msteps_done\u001b[0m \u001b[0;34m<\u001b[0m \u001b[0msteps_per_epoch\u001b[0m\u001b[0;34m:\u001b[0m\u001b[0;34m\u001b[0m\u001b[0m\n\u001b[0;32m--> 181\u001b[0;31m                 \u001b[0mgenerator_output\u001b[0m \u001b[0;34m=\u001b[0m \u001b[0mnext\u001b[0m\u001b[0;34m(\u001b[0m\u001b[0moutput_generator\u001b[0m\u001b[0;34m)\u001b[0m\u001b[0;34m\u001b[0m\u001b[0m\n\u001b[0m\u001b[1;32m    182\u001b[0m \u001b[0;34m\u001b[0m\u001b[0m\n\u001b[1;32m    183\u001b[0m                 \u001b[0;32mif\u001b[0m \u001b[0;32mnot\u001b[0m \u001b[0mhasattr\u001b[0m\u001b[0;34m(\u001b[0m\u001b[0mgenerator_output\u001b[0m\u001b[0;34m,\u001b[0m \u001b[0;34m'__len__'\u001b[0m\u001b[0;34m)\u001b[0m\u001b[0;34m:\u001b[0m\u001b[0;34m\u001b[0m\u001b[0m\n",
      "\u001b[0;32m/usr/local/lib/python3.5/dist-packages/keras/utils/data_utils.py\u001b[0m in \u001b[0;36mget\u001b[0;34m(self)\u001b[0m\n\u001b[1;32m    683\u001b[0m         \u001b[0;32mtry\u001b[0m\u001b[0;34m:\u001b[0m\u001b[0;34m\u001b[0m\u001b[0m\n\u001b[1;32m    684\u001b[0m             \u001b[0;32mwhile\u001b[0m \u001b[0mself\u001b[0m\u001b[0;34m.\u001b[0m\u001b[0mis_running\u001b[0m\u001b[0;34m(\u001b[0m\u001b[0;34m)\u001b[0m\u001b[0;34m:\u001b[0m\u001b[0;34m\u001b[0m\u001b[0m\n\u001b[0;32m--> 685\u001b[0;31m                 \u001b[0minputs\u001b[0m \u001b[0;34m=\u001b[0m \u001b[0mself\u001b[0m\u001b[0;34m.\u001b[0m\u001b[0mqueue\u001b[0m\u001b[0;34m.\u001b[0m\u001b[0mget\u001b[0m\u001b[0;34m(\u001b[0m\u001b[0mblock\u001b[0m\u001b[0;34m=\u001b[0m\u001b[0;32mTrue\u001b[0m\u001b[0;34m)\u001b[0m\u001b[0;34m.\u001b[0m\u001b[0mget\u001b[0m\u001b[0;34m(\u001b[0m\u001b[0;34m)\u001b[0m\u001b[0;34m\u001b[0m\u001b[0m\n\u001b[0m\u001b[1;32m    686\u001b[0m                 \u001b[0mself\u001b[0m\u001b[0;34m.\u001b[0m\u001b[0mqueue\u001b[0m\u001b[0;34m.\u001b[0m\u001b[0mtask_done\u001b[0m\u001b[0;34m(\u001b[0m\u001b[0;34m)\u001b[0m\u001b[0;34m\u001b[0m\u001b[0m\n\u001b[1;32m    687\u001b[0m                 \u001b[0;32mif\u001b[0m \u001b[0minputs\u001b[0m \u001b[0;32mis\u001b[0m \u001b[0;32mnot\u001b[0m \u001b[0;32mNone\u001b[0m\u001b[0;34m:\u001b[0m\u001b[0;34m\u001b[0m\u001b[0m\n",
      "\u001b[0;32m/usr/lib/python3.5/multiprocessing/pool.py\u001b[0m in \u001b[0;36mget\u001b[0;34m(self, timeout)\u001b[0m\n\u001b[1;32m    600\u001b[0m \u001b[0;34m\u001b[0m\u001b[0m\n\u001b[1;32m    601\u001b[0m     \u001b[0;32mdef\u001b[0m \u001b[0mget\u001b[0m\u001b[0;34m(\u001b[0m\u001b[0mself\u001b[0m\u001b[0;34m,\u001b[0m \u001b[0mtimeout\u001b[0m\u001b[0;34m=\u001b[0m\u001b[0;32mNone\u001b[0m\u001b[0;34m)\u001b[0m\u001b[0;34m:\u001b[0m\u001b[0;34m\u001b[0m\u001b[0m\n\u001b[0;32m--> 602\u001b[0;31m         \u001b[0mself\u001b[0m\u001b[0;34m.\u001b[0m\u001b[0mwait\u001b[0m\u001b[0;34m(\u001b[0m\u001b[0mtimeout\u001b[0m\u001b[0;34m)\u001b[0m\u001b[0;34m\u001b[0m\u001b[0m\n\u001b[0m\u001b[1;32m    603\u001b[0m         \u001b[0;32mif\u001b[0m \u001b[0;32mnot\u001b[0m \u001b[0mself\u001b[0m\u001b[0;34m.\u001b[0m\u001b[0mready\u001b[0m\u001b[0;34m(\u001b[0m\u001b[0;34m)\u001b[0m\u001b[0;34m:\u001b[0m\u001b[0;34m\u001b[0m\u001b[0m\n\u001b[1;32m    604\u001b[0m             \u001b[0;32mraise\u001b[0m \u001b[0mTimeoutError\u001b[0m\u001b[0;34m\u001b[0m\u001b[0m\n",
      "\u001b[0;32m/usr/lib/python3.5/multiprocessing/pool.py\u001b[0m in \u001b[0;36mwait\u001b[0;34m(self, timeout)\u001b[0m\n\u001b[1;32m    597\u001b[0m \u001b[0;34m\u001b[0m\u001b[0m\n\u001b[1;32m    598\u001b[0m     \u001b[0;32mdef\u001b[0m \u001b[0mwait\u001b[0m\u001b[0;34m(\u001b[0m\u001b[0mself\u001b[0m\u001b[0;34m,\u001b[0m \u001b[0mtimeout\u001b[0m\u001b[0;34m=\u001b[0m\u001b[0;32mNone\u001b[0m\u001b[0;34m)\u001b[0m\u001b[0;34m:\u001b[0m\u001b[0;34m\u001b[0m\u001b[0m\n\u001b[0;32m--> 599\u001b[0;31m         \u001b[0mself\u001b[0m\u001b[0;34m.\u001b[0m\u001b[0m_event\u001b[0m\u001b[0;34m.\u001b[0m\u001b[0mwait\u001b[0m\u001b[0;34m(\u001b[0m\u001b[0mtimeout\u001b[0m\u001b[0;34m)\u001b[0m\u001b[0;34m\u001b[0m\u001b[0m\n\u001b[0m\u001b[1;32m    600\u001b[0m \u001b[0;34m\u001b[0m\u001b[0m\n\u001b[1;32m    601\u001b[0m     \u001b[0;32mdef\u001b[0m \u001b[0mget\u001b[0m\u001b[0;34m(\u001b[0m\u001b[0mself\u001b[0m\u001b[0;34m,\u001b[0m \u001b[0mtimeout\u001b[0m\u001b[0;34m=\u001b[0m\u001b[0;32mNone\u001b[0m\u001b[0;34m)\u001b[0m\u001b[0;34m:\u001b[0m\u001b[0;34m\u001b[0m\u001b[0m\n",
      "\u001b[0;32m/usr/lib/python3.5/threading.py\u001b[0m in \u001b[0;36mwait\u001b[0;34m(self, timeout)\u001b[0m\n\u001b[1;32m    547\u001b[0m             \u001b[0msignaled\u001b[0m \u001b[0;34m=\u001b[0m \u001b[0mself\u001b[0m\u001b[0;34m.\u001b[0m\u001b[0m_flag\u001b[0m\u001b[0;34m\u001b[0m\u001b[0m\n\u001b[1;32m    548\u001b[0m             \u001b[0;32mif\u001b[0m \u001b[0;32mnot\u001b[0m \u001b[0msignaled\u001b[0m\u001b[0;34m:\u001b[0m\u001b[0;34m\u001b[0m\u001b[0m\n\u001b[0;32m--> 549\u001b[0;31m                 \u001b[0msignaled\u001b[0m \u001b[0;34m=\u001b[0m \u001b[0mself\u001b[0m\u001b[0;34m.\u001b[0m\u001b[0m_cond\u001b[0m\u001b[0;34m.\u001b[0m\u001b[0mwait\u001b[0m\u001b[0;34m(\u001b[0m\u001b[0mtimeout\u001b[0m\u001b[0;34m)\u001b[0m\u001b[0;34m\u001b[0m\u001b[0m\n\u001b[0m\u001b[1;32m    550\u001b[0m             \u001b[0;32mreturn\u001b[0m \u001b[0msignaled\u001b[0m\u001b[0;34m\u001b[0m\u001b[0m\n\u001b[1;32m    551\u001b[0m \u001b[0;34m\u001b[0m\u001b[0m\n",
      "\u001b[0;32m/usr/lib/python3.5/threading.py\u001b[0m in \u001b[0;36mwait\u001b[0;34m(self, timeout)\u001b[0m\n\u001b[1;32m    291\u001b[0m         \u001b[0;32mtry\u001b[0m\u001b[0;34m:\u001b[0m    \u001b[0;31m# restore state no matter what (e.g., KeyboardInterrupt)\u001b[0m\u001b[0;34m\u001b[0m\u001b[0m\n\u001b[1;32m    292\u001b[0m             \u001b[0;32mif\u001b[0m \u001b[0mtimeout\u001b[0m \u001b[0;32mis\u001b[0m \u001b[0;32mNone\u001b[0m\u001b[0;34m:\u001b[0m\u001b[0;34m\u001b[0m\u001b[0m\n\u001b[0;32m--> 293\u001b[0;31m                 \u001b[0mwaiter\u001b[0m\u001b[0;34m.\u001b[0m\u001b[0macquire\u001b[0m\u001b[0;34m(\u001b[0m\u001b[0;34m)\u001b[0m\u001b[0;34m\u001b[0m\u001b[0m\n\u001b[0m\u001b[1;32m    294\u001b[0m                 \u001b[0mgotit\u001b[0m \u001b[0;34m=\u001b[0m \u001b[0;32mTrue\u001b[0m\u001b[0;34m\u001b[0m\u001b[0m\n\u001b[1;32m    295\u001b[0m             \u001b[0;32melse\u001b[0m\u001b[0;34m:\u001b[0m\u001b[0;34m\u001b[0m\u001b[0m\n",
      "\u001b[0;31mKeyboardInterrupt\u001b[0m: "
     ]
    }
   ],
   "source": [
    "model_2 = keras.models.load_model('2clasifier_30_epochs.h5')\n",
    "history_2 = model_2.fit_generator(\n",
    "                    train_generator_2,\n",
    "                    steps_per_epoch = int(np.ceil(857/batch_size)),\n",
    "                    epochs=30,\n",
    "                    validation_data=validation_generator_2,\n",
    "                    validation_steps= int(np.ceil(60/batch_size)),\n",
    "                    verbose=2)"
   ]
  },
  {
   "cell_type": "code",
   "execution_count": 14,
   "metadata": {
    "collapsed": true
   },
   "outputs": [
    {
     "name": "stdout",
     "output_type": "stream",
     "text": [
      "Epoch 1/30\n",
      " - 25s - loss: 0.4698 - acc: 0.7844 - val_loss: 0.7854 - val_acc: 0.6333\n",
      "Epoch 2/30\n",
      " - 22s - loss: 0.4673 - acc: 0.7681 - val_loss: 0.7690 - val_acc: 0.6500\n",
      "Epoch 3/30\n",
      " - 23s - loss: 0.5045 - acc: 0.7539 - val_loss: 0.7691 - val_acc: 0.6333\n",
      "Epoch 4/30\n",
      " - 24s - loss: 0.4591 - acc: 0.7934 - val_loss: 0.7702 - val_acc: 0.6333\n",
      "Epoch 5/30\n",
      " - 24s - loss: 0.4733 - acc: 0.7732 - val_loss: 0.7695 - val_acc: 0.6500\n",
      "Epoch 6/30\n",
      " - 24s - loss: 0.4865 - acc: 0.7666 - val_loss: 0.7738 - val_acc: 0.6500\n",
      "Epoch 7/30\n",
      " - 23s - loss: 0.4681 - acc: 0.7864 - val_loss: 0.7924 - val_acc: 0.6500\n",
      "Epoch 8/30\n",
      " - 23s - loss: 0.4612 - acc: 0.7839 - val_loss: 0.7872 - val_acc: 0.6500\n",
      "Epoch 9/30\n",
      " - 23s - loss: 0.4724 - acc: 0.7842 - val_loss: 0.7642 - val_acc: 0.6500\n",
      "Epoch 10/30\n",
      " - 22s - loss: 0.4690 - acc: 0.7876 - val_loss: 0.7555 - val_acc: 0.6500\n",
      "Epoch 11/30\n",
      " - 24s - loss: 0.4579 - acc: 0.8008 - val_loss: 0.7634 - val_acc: 0.6500\n",
      "Epoch 12/30\n",
      " - 24s - loss: 0.4528 - acc: 0.7833 - val_loss: 0.7659 - val_acc: 0.6500\n",
      "Epoch 13/30\n",
      " - 24s - loss: 0.4737 - acc: 0.7776 - val_loss: 0.7593 - val_acc: 0.6500\n",
      "Epoch 14/30\n",
      " - 23s - loss: 0.4473 - acc: 0.7944 - val_loss: 0.7749 - val_acc: 0.6500\n",
      "Epoch 15/30\n",
      " - 24s - loss: 0.4484 - acc: 0.8008 - val_loss: 0.7860 - val_acc: 0.6500\n",
      "Epoch 16/30\n",
      " - 23s - loss: 0.4788 - acc: 0.7812 - val_loss: 0.7624 - val_acc: 0.6333\n",
      "Epoch 17/30\n",
      " - 23s - loss: 0.4378 - acc: 0.7885 - val_loss: 0.7868 - val_acc: 0.6333\n",
      "Epoch 18/30\n",
      " - 24s - loss: 0.4415 - acc: 0.7970 - val_loss: 0.7654 - val_acc: 0.6167\n",
      "Epoch 19/30\n",
      " - 23s - loss: 0.4375 - acc: 0.7942 - val_loss: 0.7441 - val_acc: 0.6333\n",
      "Epoch 20/30\n",
      " - 23s - loss: 0.4362 - acc: 0.8060 - val_loss: 0.7433 - val_acc: 0.6333\n",
      "Epoch 21/30\n",
      " - 23s - loss: 0.4582 - acc: 0.7689 - val_loss: 0.7547 - val_acc: 0.6167\n",
      "Epoch 22/30\n",
      " - 24s - loss: 0.4222 - acc: 0.8235 - val_loss: 0.7425 - val_acc: 0.6333\n",
      "Epoch 23/30\n",
      " - 23s - loss: 0.4252 - acc: 0.8065 - val_loss: 0.7430 - val_acc: 0.6500\n",
      "Epoch 24/30\n",
      " - 24s - loss: 0.4274 - acc: 0.8180 - val_loss: 0.7376 - val_acc: 0.6333\n",
      "Epoch 25/30\n",
      " - 23s - loss: 0.4773 - acc: 0.7784 - val_loss: 0.7502 - val_acc: 0.6167\n",
      "Epoch 26/30\n",
      " - 23s - loss: 0.4230 - acc: 0.7996 - val_loss: 0.7574 - val_acc: 0.6167\n",
      "Epoch 27/30\n",
      " - 24s - loss: 0.4408 - acc: 0.7973 - val_loss: 0.7439 - val_acc: 0.6167\n",
      "Epoch 28/30\n",
      " - 23s - loss: 0.4630 - acc: 0.7793 - val_loss: 0.7580 - val_acc: 0.6167\n",
      "Epoch 29/30\n",
      " - 23s - loss: 0.4302 - acc: 0.8077 - val_loss: 0.7647 - val_acc: 0.6167\n",
      "Epoch 30/30\n",
      " - 23s - loss: 0.4341 - acc: 0.8092 - val_loss: 0.7658 - val_acc: 0.6167\n"
     ]
    }
   ],
   "source": [
    "model_2.save('2clasifier_60_epochs.h5')\n",
    "model_2.compile(loss='categorical_crossentropy',\n",
    "             optimizer=RMSprop(lr=1e-4),\n",
    "             metrics=['accuracy'])\n",
    "model_2 = keras.models.load_model('2clasifier_60_epochs.h5')\n",
    "history_2 = model_2.fit_generator(\n",
    "                    train_generator_2,\n",
    "                    steps_per_epoch = int(np.ceil(857/batch_size)),\n",
    "                    epochs=30,\n",
    "                    validation_data=validation_generator_2,\n",
    "                    validation_steps= int(np.ceil(60/batch_size)),\n",
    "                    verbose=2)"
   ]
  }
 ],
 "metadata": {
  "kernelspec": {
   "display_name": "Python 3",
   "language": "python",
   "name": "python3"
  },
  "language_info": {
   "codemirror_mode": {
    "name": "ipython",
    "version": 3
   },
   "file_extension": ".py",
   "mimetype": "text/x-python",
   "name": "python",
   "nbconvert_exporter": "python",
   "pygments_lexer": "ipython3",
   "version": "3.5.3"
  }
 },
 "nbformat": 4,
 "nbformat_minor": 2
}
