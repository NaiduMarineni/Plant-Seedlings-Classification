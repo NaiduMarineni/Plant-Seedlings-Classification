{
 "cells": [
  {
   "cell_type": "markdown",
   "metadata": {},
   "source": [
    "# Baseline Classifier"
   ]
  },
  {
   "cell_type": "code",
   "execution_count": 1,
   "metadata": {},
   "outputs": [
    {
     "name": "stderr",
     "output_type": "stream",
     "text": [
      "Using TensorFlow backend.\n"
     ]
    }
   ],
   "source": [
    "import tensorflow as tf\n",
    "from tensorflow import image as img\n",
    "import os\n",
    "import shutil, sys\n",
    "import numpy as np\n",
    "import keras\n",
    "from keras.preprocessing import image\n",
    "from keras.preprocessing.image import ImageDataGenerator\n",
    "import random\n",
    "import keras\n",
    "from keras.utils import plot_model\n",
    "from keras.applications.mobilenet import MobileNet\n",
    "from keras.layers import AveragePooling2D, GlobalAveragePooling2D\n",
    "from keras.layers import Conv2D, Convolution2D, MaxPooling2D, ZeroPadding2D, BatchNormalization, Activation\n",
    "from keras.layers import Dropout, Flatten, Dense, Input\n",
    "from keras.models import Sequential, Model\n",
    "from keras.optimizers import RMSprop\n",
    "from keras import optimizers\n",
    "from keras.callbacks import ModelCheckpoint, ReduceLROnPlateau, EarlyStopping, CSVLogger"
   ]
  },
  {
   "cell_type": "code",
   "execution_count": 3,
   "metadata": {},
   "outputs": [],
   "source": [
    "from keras.models import load_model\n",
    "model1 = load_model('keras_aug_4_15_12.h5')\n",
    "#model2 = load_model('2clasifier_40_epochs.h5')"
   ]
  },
  {
   "cell_type": "code",
   "execution_count": 4,
   "metadata": {},
   "outputs": [],
   "source": [
    "#Read the test images and translate the images data into a numpy array\n",
    "test_dir = './test'\n",
    "rsltn = 224\n",
    "test_count = len(os.listdir(test_dir))\n",
    "test_data = np.zeros(shape=[test_count, rsltn, rsltn, 3])\n",
    "test_ids = []\n",
    "curr_idx = 0\n",
    "\n",
    "for each_file in os.listdir(test_dir):\n",
    "    test_ids.append(each_file)\n",
    "    pic = image.load_img(os.path.join(test_dir, each_file), target_size=(rsltn, rsltn))\n",
    "    x = image.img_to_array(pic)\n",
    "    x = x/255\n",
    "    test_data[curr_idx, :] = x\n",
    "    curr_idx += 1"
   ]
  },
  {
   "cell_type": "code",
   "execution_count": 5,
   "metadata": {},
   "outputs": [
    {
     "name": "stdout",
     "output_type": "stream",
     "text": [
      "Found 360 images belonging to 12 classes.\n"
     ]
    }
   ],
   "source": [
    "val1_dir = './validation1'\n",
    "batch_size = 30\n",
    "val_datagen = ImageDataGenerator(rescale = 1./255)\n",
    "val_generator_1 = val_datagen.flow_from_directory(\n",
    "                        val1_dir,\n",
    "                        target_size=(image_size,image_size),\n",
    "                        batch_size=batch_size,\n",
    "                        class_mode='categorical')\n",
    "class_dict = val_generator_1.class_indices\n",
    "reverse_class_dict = {}\n",
    "for i in class_dict:\n",
    "    reverse_class_dict[class_dict[i]] = i"
   ]
  },
  {
   "cell_type": "code",
   "execution_count": 6,
   "metadata": {},
   "outputs": [
    {
     "data": {
      "text/plain": [
       "{'Black-grass': 0,\n",
       " 'Charlock': 1,\n",
       " 'Cleavers': 2,\n",
       " 'Common Chickweed': 3,\n",
       " 'Common wheat': 4,\n",
       " 'Fat Hen': 5,\n",
       " 'Loose Silky-bent': 6,\n",
       " 'Maize': 7,\n",
       " 'Scentless Mayweed': 8,\n",
       " 'Shepherds Purse': 9,\n",
       " 'Small-flowered Cranesbill': 10,\n",
       " 'Sugar beet': 11}"
      ]
     },
     "execution_count": 6,
     "metadata": {},
     "output_type": "execute_result"
    }
   ],
   "source": [
    "val_generator_1.class_indices"
   ]
  },
  {
   "cell_type": "code",
   "execution_count": 7,
   "metadata": {},
   "outputs": [
    {
     "data": {
      "text/plain": [
       "{0: 'Black-grass',\n",
       " 1: 'Charlock',\n",
       " 2: 'Cleavers',\n",
       " 3: 'Common Chickweed',\n",
       " 4: 'Common wheat',\n",
       " 5: 'Fat Hen',\n",
       " 6: 'Loose Silky-bent',\n",
       " 7: 'Maize',\n",
       " 8: 'Scentless Mayweed',\n",
       " 9: 'Shepherds Purse',\n",
       " 10: 'Small-flowered Cranesbill',\n",
       " 11: 'Sugar beet'}"
      ]
     },
     "execution_count": 7,
     "metadata": {},
     "output_type": "execute_result"
    }
   ],
   "source": [
    "reverse_class_dict"
   ]
  },
  {
   "cell_type": "code",
   "execution_count": 8,
   "metadata": {},
   "outputs": [],
   "source": [
    "predictions1 = model1.predict(test_data)\n",
    "test_count = predictions1.shape[0]\n",
    "predicted_classes_model1= [reverse_class_dict[x] for x in np.argmax(predictions1, axis=1)]"
   ]
  },
  {
   "cell_type": "code",
   "execution_count": 9,
   "metadata": {},
   "outputs": [
    {
     "data": {
      "text/plain": [
       "'Small-flowered Cranesbill'"
      ]
     },
     "execution_count": 9,
     "metadata": {},
     "output_type": "execute_result"
    }
   ],
   "source": [
    "predicted_classes_model1[2]"
   ]
  },
  {
   "cell_type": "markdown",
   "metadata": {},
   "source": [
    "# 2nd Classifier"
   ]
  },
  {
   "cell_type": "code",
   "execution_count": 10,
   "metadata": {},
   "outputs": [],
   "source": [
    "model2 = load_model('2class_best_1.h5')"
   ]
  },
  {
   "cell_type": "code",
   "execution_count": 11,
   "metadata": {},
   "outputs": [
    {
     "data": {
      "text/plain": [
       "794"
      ]
     },
     "execution_count": 11,
     "metadata": {},
     "output_type": "execute_result"
    }
   ],
   "source": [
    "len(predicted_classes_model1)"
   ]
  },
  {
   "cell_type": "code",
   "execution_count": 13,
   "metadata": {},
   "outputs": [],
   "source": [
    "count = 0;\n",
    "img_size = 224\n",
    "predicted_classes_final = []\n",
    "for i in range(test_count):\n",
    "    if(predicted_classes_model1[i] == 'Black-grass' or predicted_classes_model1[i] == 'Loose Silky-bent'):\n",
    "        pic = image.load_img(os.path.join(test_dir, test_ids[i]), target_size=(img_size, img_size))\n",
    "        x = image.img_to_array(pic)\n",
    "        x = x/255\n",
    "        predict2 = model2.predict(x.reshape(1, img_size,img_size,3))\n",
    "        if(predict2[0,0] > predict2[0,1]):            \n",
    "            predicted_classes_final.append('Black-grass')\n",
    "        else:\n",
    "            predicted_classes_final.append('Loose Silky-bent')\n",
    "        count += 1\n",
    "    else:\n",
    "        predicted_classes_final.append(predicted_classes_model1[i])\n",
    "        #print(predict2.shape)\n",
    "        #print(\"pred1_BG=\", predictions1[i, 0], \"pred1_L=\", predictions1[i, 6], \"pred2_BG=\", predict2[0,0], \"pred2_L=\", predict2[0,1])\n",
    "    "
   ]
  },
  {
   "cell_type": "code",
   "execution_count": 26,
   "metadata": {},
   "outputs": [
    {
     "data": {
      "text/plain": [
       "794"
      ]
     },
     "execution_count": 26,
     "metadata": {},
     "output_type": "execute_result"
    }
   ],
   "source": [
    "len(predicted_classes_final)"
   ]
  },
  {
   "cell_type": "code",
   "execution_count": 27,
   "metadata": {},
   "outputs": [
    {
     "data": {
      "text/html": [
       "<a href='ensemble_classifier_3.csv' target='_blank'>ensemble_classifier_3.csv</a><br>"
      ],
      "text/plain": [
       "/home/marineni0777/ensemble_classifier_3.csv"
      ]
     },
     "execution_count": 27,
     "metadata": {},
     "output_type": "execute_result"
    }
   ],
   "source": [
    "import pandas as pd\n",
    "submission = pd.DataFrame({'file':test_ids,'species':predicted_classes_final})\n",
    "submission.to_csv('ensemble_classifier_3.csv', encoding=\"utf8\", index=False)\n",
    "from IPython.display import FileLink\n",
    "FileLink('ensemble_classifier_3.csv')"
   ]
  },
  {
   "cell_type": "markdown",
   "metadata": {},
   "source": [
    "# Confusion Matrix On Validation Data"
   ]
  },
  {
   "cell_type": "code",
   "execution_count": 20,
   "metadata": {},
   "outputs": [
    {
     "name": "stdout",
     "output_type": "stream",
     "text": [
      "Found 360 images belonging to 12 classes.\n"
     ]
    }
   ],
   "source": [
    "test_dir = './Plant-Seedlings-Classification/validation'\n",
    "test_datagen = ImageDataGenerator(rescale=1./255)\n",
    "\n",
    "test_generator = test_datagen.flow_from_directory(\n",
    "        test_dir,\n",
    "        target_size=(img_size, img_size),\n",
    "        color_mode=\"rgb\",\n",
    "        shuffle = False,\n",
    "        class_mode='categorical',\n",
    "        batch_size=1)\n",
    "\n",
    "filenames = test_generator.filenames\n",
    "nb_samples = len(filenames)\n",
    "\n",
    "predictions1 = model1.predict_generator(test_generator,steps = nb_samples)"
   ]
  },
  {
   "cell_type": "code",
   "execution_count": 23,
   "metadata": {},
   "outputs": [],
   "source": [
    "test_count = predictions1.shape[0]\n",
    "predicted_classes_model1= np.argmax(predictions1, axis=1)\n",
    "count = 0;\n",
    "predicted_classes_final = []\n",
    "\n",
    "for i in range(test_count):\n",
    "    if(predicted_classes_model1[i] == 0 or predicted_classes_model1[i] == 6):\n",
    "        #os.path.abspath(test_ids[i])\n",
    "        pic = image.load_img(os.path.join(test_dir, filenames[i]), target_size=(img_size, img_size))\n",
    "        x = image.img_to_array(pic)\n",
    "        x = x/255\n",
    "        predict2 = model2.predict(x.reshape(1, img_size,img_size,3))\n",
    "        if(predict2[0,0] > predict2[0,1]):            \n",
    "            predicted_classes_final.append(0)\n",
    "        else:\n",
    "            predicted_classes_final.append(6)\n",
    "        count += 1\n",
    "    else:\n",
    "        predicted_classes_final.append(predicted_classes_model1[i])\n"
   ]
  },
  {
   "cell_type": "code",
   "execution_count": 28,
   "metadata": {},
   "outputs": [],
   "source": [
    "predicted_classes_final = np.array(predicted_classes_final)"
   ]
  },
  {
   "cell_type": "code",
   "execution_count": 27,
   "metadata": {},
   "outputs": [],
   "source": [
    "val_labels = np.zeros(360, dtype=int)\n",
    "for i in range(12):\n",
    "    for j in range(30):\n",
    "        val_labels[i*30+j] = int(i);"
   ]
  },
  {
   "cell_type": "code",
   "execution_count": 30,
   "metadata": {},
   "outputs": [
    {
     "data": {
      "text/plain": [
       "array([[25,  0,  0,  0,  0,  0,  5,  0,  0,  0,  0,  0],\n",
       "       [ 0, 30,  0,  0,  0,  0,  0,  0,  0,  0,  0,  0],\n",
       "       [ 0,  0, 30,  0,  0,  0,  0,  0,  0,  0,  0,  0],\n",
       "       [ 0,  0,  0, 29,  0,  0,  0,  0,  0,  0,  0,  1],\n",
       "       [ 0,  0,  0,  0, 30,  0,  0,  0,  0,  0,  0,  0],\n",
       "       [ 0,  0,  0,  0,  0, 30,  0,  0,  0,  0,  0,  0],\n",
       "       [ 0,  0,  0,  0,  0,  0, 30,  0,  0,  0,  0,  0],\n",
       "       [ 0,  0,  0,  0,  0,  0,  1, 29,  0,  0,  0,  0],\n",
       "       [ 0,  0,  0,  0,  0,  0,  0,  0, 30,  0,  0,  0],\n",
       "       [ 0,  0,  0,  0,  0,  0,  0,  0,  1, 29,  0,  0],\n",
       "       [ 0,  0,  0,  0,  0,  0,  0,  1,  0,  0, 29,  0],\n",
       "       [ 0,  0,  0,  0,  0,  0,  0,  0,  0,  0,  0, 30]])"
      ]
     },
     "execution_count": 30,
     "metadata": {},
     "output_type": "execute_result"
    }
   ],
   "source": [
    "from sklearn.metrics import confusion_matrix \n",
    "confusion_matrix(val_labels, predicted_classes_final)"
   ]
  }
 ],
 "metadata": {
  "kernelspec": {
   "display_name": "Python 3",
   "language": "python",
   "name": "python3"
  },
  "language_info": {
   "codemirror_mode": {
    "name": "ipython",
    "version": 3
   },
   "file_extension": ".py",
   "mimetype": "text/x-python",
   "name": "python",
   "nbconvert_exporter": "python",
   "pygments_lexer": "ipython3",
   "version": "3.7.1"
  }
 },
 "nbformat": 4,
 "nbformat_minor": 2
}
