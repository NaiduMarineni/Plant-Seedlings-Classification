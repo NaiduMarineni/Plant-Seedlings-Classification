{
 "cells": [
  {
   "cell_type": "code",
   "execution_count": 9,
   "metadata": {},
   "outputs": [],
   "source": [
    "import tensorflow as tf\n",
    "from tensorflow import image as img\n",
    "import os\n",
    "import shutil, sys\n",
    "import numpy as np\n",
    "import keras\n",
    "from keras.preprocessing import image\n",
    "from keras.preprocessing.image import ImageDataGenerator\n",
    "import random\n",
    "import keras\n",
    "from keras.utils import plot_model\n",
    "from keras.applications.mobilenet import MobileNet\n",
    "from keras.layers import AveragePooling2D, GlobalAveragePooling2D\n",
    "from keras.layers import Conv2D, Convolution2D, MaxPooling2D, ZeroPadding2D, BatchNormalization, Activation\n",
    "from keras.layers import Dropout, Flatten, Dense, Input\n",
    "from keras.models import Sequential, Model\n",
    "from keras.optimizers import RMSprop\n",
    "from keras import optimizers\n",
    "from keras.callbacks import ModelCheckpoint, ReduceLROnPlateau, EarlyStopping, CSVLogger"
   ]
  },
  {
   "cell_type": "code",
   "execution_count": 10,
   "metadata": {},
   "outputs": [],
   "source": [
    "from keras.models import load_model\n",
    "model = load_model('keras_aug_4_15_12.h5')"
   ]
  },
  {
   "cell_type": "code",
   "execution_count": 3,
   "metadata": {},
   "outputs": [],
   "source": [
    "input = Input(shape=(196,196,3))\n",
    "x = model.layers[0].get_layer(\"block1_conv1\") (input)\n",
    "x = model.layers[0].get_layer(\"block1_conv2\") (x)\n",
    "x = model.layers[0].get_layer(\"block1_pool\") (x)\n",
    "x = model.layers[0].get_layer(\"block2_conv1\") (x)\n",
    "x = model.layers[0].get_layer(\"block2_conv2\") (x)\n",
    "x = model.layers[0].get_layer(\"block2_pool\") (x)\n",
    "x = model.layers[0].get_layer(\"block3_conv1\") (x)\n",
    "x = model.layers[0].get_layer(\"block3_conv2\") (x)\n",
    "x = model.layers[0].get_layer(\"block3_conv3\") (x)\n",
    "x = model.layers[0].get_layer(\"block3_conv4\") (x)\n",
    "x = model.layers[0].get_layer(\"block3_pool\") (x)\n",
    "x = model.layers[0].get_layer(\"block4_conv1\") (x)\n",
    "x = model.layers[0].get_layer(\"block4_conv2\") (x)\n",
    "x = model.layers[0].get_layer(\"block4_conv3\") (x)\n",
    "x = model.layers[0].get_layer(\"block4_conv4\") (x)\n",
    "x = model.layers[0].get_layer(\"block4_pool\") (x)\n",
    "x = model.layers[0].get_layer(\"block5_conv1\") (x)\n",
    "x = model.layers[0].get_layer(\"block5_conv2\") (x)\n",
    "x = model.layers[0].get_layer(\"block5_conv3\") (x)\n",
    "x = model.layers[0].get_layer(\"block5_conv4\") (x)\n",
    "x = model.layers[0].get_layer(\"block5_pool\") (x)\n",
    "x = Flatten()(x)\n",
    "x = Dense(1024, activation=\"relu\")(x)\n",
    "x = Dropout(0.3) (x)\n",
    "x = Dense(256, activation = \"relu\")(x)\n",
    "x = Dense(64, activation = \"relu\")(x)\n",
    "x = Dense(32, activation = \"relu\")(x)\n",
    "x = Dense(2, activation='softmax') (x)\n",
    "model= Model(input, x)"
   ]
  },
  {
   "cell_type": "code",
   "execution_count": 4,
   "metadata": {
    "scrolled": true
   },
   "outputs": [
    {
     "name": "stdout",
     "output_type": "stream",
     "text": [
      "_________________________________________________________________\n",
      "Layer (type)                 Output Shape              Param #   \n",
      "=================================================================\n",
      "input_1 (InputLayer)         (None, 196, 196, 3)       0         \n",
      "_________________________________________________________________\n",
      "block1_conv1 (Conv2D)        (None, 196, 196, 64)      1792      \n",
      "_________________________________________________________________\n",
      "block1_conv2 (Conv2D)        (None, 196, 196, 64)      36928     \n",
      "_________________________________________________________________\n",
      "block1_pool (MaxPooling2D)   (None, 98, 98, 64)        0         \n",
      "_________________________________________________________________\n",
      "block2_conv1 (Conv2D)        (None, 98, 98, 128)       73856     \n",
      "_________________________________________________________________\n",
      "block2_conv2 (Conv2D)        (None, 98, 98, 128)       147584    \n",
      "_________________________________________________________________\n",
      "block2_pool (MaxPooling2D)   (None, 49, 49, 128)       0         \n",
      "_________________________________________________________________\n",
      "block3_conv1 (Conv2D)        (None, 49, 49, 256)       295168    \n",
      "_________________________________________________________________\n",
      "block3_conv2 (Conv2D)        (None, 49, 49, 256)       590080    \n",
      "_________________________________________________________________\n",
      "block3_conv3 (Conv2D)        (None, 49, 49, 256)       590080    \n",
      "_________________________________________________________________\n",
      "block3_conv4 (Conv2D)        (None, 49, 49, 256)       590080    \n",
      "_________________________________________________________________\n",
      "block3_pool (MaxPooling2D)   (None, 24, 24, 256)       0         \n",
      "_________________________________________________________________\n",
      "block4_conv1 (Conv2D)        (None, 24, 24, 512)       1180160   \n",
      "_________________________________________________________________\n",
      "block4_conv2 (Conv2D)        (None, 24, 24, 512)       2359808   \n",
      "_________________________________________________________________\n",
      "block4_conv3 (Conv2D)        (None, 24, 24, 512)       2359808   \n",
      "_________________________________________________________________\n",
      "block4_conv4 (Conv2D)        (None, 24, 24, 512)       2359808   \n",
      "_________________________________________________________________\n",
      "block4_pool (MaxPooling2D)   (None, 12, 12, 512)       0         \n",
      "_________________________________________________________________\n",
      "block5_conv1 (Conv2D)        (None, 12, 12, 512)       2359808   \n",
      "_________________________________________________________________\n",
      "block5_conv2 (Conv2D)        (None, 12, 12, 512)       2359808   \n",
      "_________________________________________________________________\n",
      "block5_conv3 (Conv2D)        (None, 12, 12, 512)       2359808   \n",
      "_________________________________________________________________\n",
      "block5_conv4 (Conv2D)        (None, 12, 12, 512)       2359808   \n",
      "_________________________________________________________________\n",
      "block5_pool (MaxPooling2D)   (None, 6, 6, 512)         0         \n",
      "_________________________________________________________________\n",
      "flatten_1 (Flatten)          (None, 18432)             0         \n",
      "_________________________________________________________________\n",
      "dense_1 (Dense)              (None, 1024)              18875392  \n",
      "_________________________________________________________________\n",
      "dropout_1 (Dropout)          (None, 1024)              0         \n",
      "_________________________________________________________________\n",
      "dense_2 (Dense)              (None, 256)               262400    \n",
      "_________________________________________________________________\n",
      "dense_3 (Dense)              (None, 64)                16448     \n",
      "_________________________________________________________________\n",
      "dense_4 (Dense)              (None, 32)                2080      \n",
      "_________________________________________________________________\n",
      "dense_5 (Dense)              (None, 2)                 66        \n",
      "=================================================================\n",
      "Total params: 39,180,770\n",
      "Trainable params: 39,142,050\n",
      "Non-trainable params: 38,720\n",
      "_________________________________________________________________\n"
     ]
    }
   ],
   "source": [
    "model.summary()"
   ]
  },
  {
   "cell_type": "code",
   "execution_count": 11,
   "metadata": {},
   "outputs": [],
   "source": [
    "input = Input(shape=(196,196,3))\n",
    "x = model.get_layer(\"vgg19\")(input)\n",
    "x = Flatten()(x)\n",
    "x = Dense(1024, activation=\"relu\")(x)\n",
    "x = Dropout(0.3) (x)\n",
    "x = Dense(256, activation = \"relu\")(x)\n",
    "x = Dense(64, activation = \"relu\")(x)\n",
    "x = Dense(32, activation = \"relu\")(x)\n",
    "preds = Dense(2, activation='softmax') (x)\n",
    "\n",
    "model= Model(input, preds)\n",
    "\n",
    "for layer in model.layers:\n",
    "    if layer.name == 'vgg19':\n",
    "        layer.trainable = False\n",
    "model.compile(optimizer=optimizers.RMSprop(lr=0.00001),\n",
    "              loss='categorical_crossentropy',\n",
    "              metrics=['accuracy'])"
   ]
  },
  {
   "cell_type": "code",
   "execution_count": 12,
   "metadata": {},
   "outputs": [
    {
     "name": "stdout",
     "output_type": "stream",
     "text": [
      "_________________________________________________________________\n",
      "Layer (type)                 Output Shape              Param #   \n",
      "=================================================================\n",
      "input_3 (InputLayer)         (None, 196, 196, 3)       0         \n",
      "_________________________________________________________________\n",
      "vgg19 (Model)                (None, 6, 6, 512)         20024384  \n",
      "_________________________________________________________________\n",
      "flatten_3 (Flatten)          (None, 18432)             0         \n",
      "_________________________________________________________________\n",
      "dense_11 (Dense)             (None, 1024)              18875392  \n",
      "_________________________________________________________________\n",
      "dropout_3 (Dropout)          (None, 1024)              0         \n",
      "_________________________________________________________________\n",
      "dense_12 (Dense)             (None, 256)               262400    \n",
      "_________________________________________________________________\n",
      "dense_13 (Dense)             (None, 64)                16448     \n",
      "_________________________________________________________________\n",
      "dense_14 (Dense)             (None, 32)                2080      \n",
      "_________________________________________________________________\n",
      "dense_15 (Dense)             (None, 2)                 66        \n",
      "=================================================================\n",
      "Total params: 39,180,770\n",
      "Trainable params: 19,156,386\n",
      "Non-trainable params: 20,024,384\n",
      "_________________________________________________________________\n"
     ]
    }
   ],
   "source": [
    "model.summary()"
   ]
  },
  {
   "cell_type": "code",
   "execution_count": 8,
   "metadata": {},
   "outputs": [
    {
     "name": "stdout",
     "output_type": "stream",
     "text": [
      "Found 857 images belonging to 2 classes.\n",
      "Found 60 images belonging to 2 classes.\n"
     ]
    }
   ],
   "source": [
    "image_size = 196\n",
    "batch_size = 30\n",
    "train2_dir = './train2'\n",
    "val2_dir = './validation2'\n",
    "train_datagen = ImageDataGenerator(\n",
    "    rescale=1./255,\n",
    "    rotation_range=360,\n",
    "    width_shift_range=0.3,\n",
    "    height_shift_range=0.3,\n",
    "    shear_range=0.2,\n",
    "    zoom_range=0.2,\n",
    "    horizontal_flip=True,\n",
    "    vertical_flip = True)\n",
    "\n",
    "validation_datagen = ImageDataGenerator(rescale = 1./255)\n",
    "\n",
    "train_generator_2 = train_datagen.flow_from_directory(\n",
    "                    train2_dir,\n",
    "                    target_size=(image_size,image_size),\n",
    "                    batch_size=batch_size,\n",
    "                    class_mode='categorical',\n",
    "                    shuffle=True\n",
    "                    )\n",
    "validation_generator_2 = validation_datagen.flow_from_directory(\n",
    "                        val2_dir,\n",
    "                        target_size=(image_size,image_size),\n",
    "                        batch_size=batch_size,\n",
    "                        class_mode='categorical')"
   ]
  },
  {
   "cell_type": "code",
   "execution_count": 8,
   "metadata": {},
   "outputs": [],
   "source": [
    "class_weight = {0: 2.67,\n",
    "                1: 1.0}"
   ]
  },
  {
   "cell_type": "code",
   "execution_count": 9,
   "metadata": {
    "scrolled": true
   },
   "outputs": [
    {
     "name": "stdout",
     "output_type": "stream",
     "text": [
      "Epoch 1/10\n",
      " - 26s - loss: 0.9496 - acc: 0.6096 - val_loss: 0.5498 - val_acc: 0.7500\n",
      "Epoch 2/10\n",
      " - 23s - loss: 0.8032 - acc: 0.8077 - val_loss: 0.4482 - val_acc: 0.7833\n",
      "Epoch 3/10\n",
      " - 24s - loss: 0.6836 - acc: 0.8388 - val_loss: 0.3889 - val_acc: 0.8667\n",
      "Epoch 4/10\n",
      " - 23s - loss: 0.5658 - acc: 0.8632 - val_loss: 0.3509 - val_acc: 0.8500\n",
      "Epoch 5/10\n",
      " - 24s - loss: 0.5063 - acc: 0.8864 - val_loss: 0.3239 - val_acc: 0.8500\n",
      "Epoch 6/10\n",
      " - 24s - loss: 0.4748 - acc: 0.8833 - val_loss: 0.2972 - val_acc: 0.8500\n",
      "Epoch 7/10\n",
      " - 24s - loss: 0.4010 - acc: 0.9037 - val_loss: 0.3538 - val_acc: 0.8833\n",
      "Epoch 8/10\n",
      " - 24s - loss: 0.3953 - acc: 0.9040 - val_loss: 0.3399 - val_acc: 0.8667\n",
      "Epoch 9/10\n",
      " - 24s - loss: 0.3698 - acc: 0.9046 - val_loss: 0.3320 - val_acc: 0.8500\n",
      "Epoch 10/10\n",
      " - 23s - loss: 0.3558 - acc: 0.8960 - val_loss: 0.4118 - val_acc: 0.8667\n"
     ]
    }
   ],
   "source": [
    "history_2 = model.fit_generator(\n",
    "                    train_generator_2,\n",
    "                    steps_per_epoch = int(np.ceil(857/batch_size)),\n",
    "                    epochs=10,\n",
    "                    validation_data=validation_generator_2,\n",
    "                    validation_steps= int(np.ceil(60/batch_size)),\n",
    "                    verbose=2,\n",
    "                    class_weight=class_weight)"
   ]
  },
  {
   "cell_type": "code",
   "execution_count": 10,
   "metadata": {},
   "outputs": [
    {
     "name": "stdout",
     "output_type": "stream",
     "text": [
      "Epoch 1/10\n",
      " - 26s - loss: 0.5563 - acc: 0.8445 - val_loss: 0.1998 - val_acc: 0.9333\n",
      "Epoch 2/10\n",
      " - 24s - loss: 0.4284 - acc: 0.8764 - val_loss: 0.9136 - val_acc: 0.7667\n",
      "Epoch 3/10\n",
      " - 24s - loss: 0.4337 - acc: 0.8850 - val_loss: 0.5915 - val_acc: 0.8000\n",
      "Epoch 4/10\n",
      " - 23s - loss: 0.4154 - acc: 0.8902 - val_loss: 0.4810 - val_acc: 0.7667\n",
      "Epoch 5/10\n",
      " - 23s - loss: 0.4547 - acc: 0.8657 - val_loss: 0.3365 - val_acc: 0.8833\n",
      "Epoch 6/10\n",
      " - 24s - loss: 0.3971 - acc: 0.8770 - val_loss: 0.5552 - val_acc: 0.8667\n",
      "Epoch 7/10\n",
      " - 24s - loss: 0.3965 - acc: 0.8933 - val_loss: 0.4600 - val_acc: 0.8667\n",
      "Epoch 8/10\n",
      " - 25s - loss: 0.4831 - acc: 0.8680 - val_loss: 0.3473 - val_acc: 0.8667\n",
      "Epoch 9/10\n",
      " - 24s - loss: 0.3671 - acc: 0.9017 - val_loss: 0.2362 - val_acc: 0.9167\n",
      "Epoch 10/10\n",
      " - 23s - loss: 0.3973 - acc: 0.8773 - val_loss: 0.2859 - val_acc: 0.9000\n"
     ]
    }
   ],
   "source": [
    "for layer in model.layers:\n",
    "    if layer.name == 'vgg19':\n",
    "        layer.trainable = True\n",
    "model.compile(optimizer=optimizers.RMSprop(lr=0.00001),\n",
    "              loss='categorical_crossentropy',\n",
    "              metrics=['accuracy'])\n",
    "history_2 = model.fit_generator(\n",
    "                    train_generator_2,\n",
    "                    steps_per_epoch = int(np.ceil(857/batch_size)),\n",
    "                    epochs=10,\n",
    "                    validation_data=validation_generator_2,\n",
    "                    validation_steps= int(np.ceil(60/batch_size)),\n",
    "                    verbose=2,\n",
    "                    class_weight=class_weight)"
   ]
  },
  {
   "cell_type": "code",
   "execution_count": 11,
   "metadata": {},
   "outputs": [
    {
     "name": "stdout",
     "output_type": "stream",
     "text": [
      "Epoch 1/10\n",
      " - 25s - loss: 0.3588 - acc: 0.8922 - val_loss: 0.2527 - val_acc: 0.8833\n",
      "Epoch 2/10\n",
      " - 24s - loss: 0.3083 - acc: 0.9150 - val_loss: 0.2530 - val_acc: 0.9167\n",
      "Epoch 3/10\n",
      " - 24s - loss: 0.2791 - acc: 0.9259 - val_loss: 0.5165 - val_acc: 0.8333\n",
      "Epoch 4/10\n",
      " - 24s - loss: 0.2974 - acc: 0.9172 - val_loss: 0.3037 - val_acc: 0.8833\n",
      "Epoch 5/10\n",
      " - 24s - loss: 0.3042 - acc: 0.9206 - val_loss: 0.3283 - val_acc: 0.9333\n",
      "Epoch 6/10\n",
      " - 24s - loss: 0.2992 - acc: 0.9163 - val_loss: 0.7285 - val_acc: 0.7667\n",
      "Epoch 7/10\n",
      " - 24s - loss: 0.2409 - acc: 0.9379 - val_loss: 0.2294 - val_acc: 0.9500\n",
      "Epoch 8/10\n",
      " - 23s - loss: 0.2519 - acc: 0.9252 - val_loss: 0.7367 - val_acc: 0.8167\n",
      "Epoch 9/10\n",
      " - 24s - loss: 0.2694 - acc: 0.9190 - val_loss: 0.4804 - val_acc: 0.8667\n",
      "Epoch 10/10\n",
      " - 23s - loss: 0.2680 - acc: 0.9141 - val_loss: 0.1549 - val_acc: 0.9167\n"
     ]
    }
   ],
   "source": [
    "model.compile(optimizer=optimizers.RMSprop(lr=0.000005),\n",
    "              loss='categorical_crossentropy',\n",
    "              metrics=['accuracy'])\n",
    "history_2 = model.fit_generator(\n",
    "                    train_generator_2,\n",
    "                    steps_per_epoch = int(np.ceil(857/batch_size)),\n",
    "                    epochs=10,\n",
    "                    validation_data=validation_generator_2,\n",
    "                    validation_steps= int(np.ceil(60/batch_size)),\n",
    "                    verbose=2,\n",
    "                    class_weight=class_weight)"
   ]
  },
  {
   "cell_type": "code",
   "execution_count": 12,
   "metadata": {},
   "outputs": [
    {
     "name": "stdout",
     "output_type": "stream",
     "text": [
      "Epoch 1/10\n",
      " - 25s - loss: 0.2276 - acc: 0.9405 - val_loss: 0.3326 - val_acc: 0.8833\n",
      "Epoch 2/10\n",
      " - 23s - loss: 0.2295 - acc: 0.9370 - val_loss: 0.3328 - val_acc: 0.9167\n",
      "Epoch 3/10\n",
      " - 23s - loss: 0.1935 - acc: 0.9436 - val_loss: 0.3208 - val_acc: 0.9000\n",
      "Epoch 4/10\n",
      " - 23s - loss: 0.2124 - acc: 0.9428 - val_loss: 0.3775 - val_acc: 0.8833\n",
      "Epoch 5/10\n",
      " - 23s - loss: 0.1788 - acc: 0.9528 - val_loss: 0.3424 - val_acc: 0.9167\n",
      "Epoch 6/10\n",
      " - 24s - loss: 0.2011 - acc: 0.9546 - val_loss: 0.3135 - val_acc: 0.9000\n",
      "Epoch 7/10\n",
      " - 23s - loss: 0.2255 - acc: 0.9370 - val_loss: 0.2784 - val_acc: 0.9333\n",
      "Epoch 8/10\n",
      " - 24s - loss: 0.1615 - acc: 0.9647 - val_loss: 0.5471 - val_acc: 0.8667\n",
      "Epoch 9/10\n",
      " - 23s - loss: 0.2337 - acc: 0.9368 - val_loss: 0.2198 - val_acc: 0.9333\n",
      "Epoch 10/10\n",
      " - 23s - loss: 0.1990 - acc: 0.9517 - val_loss: 0.2599 - val_acc: 0.9167\n"
     ]
    }
   ],
   "source": [
    "model.compile(optimizer=optimizers.RMSprop(lr=0.000001),\n",
    "              loss='categorical_crossentropy',\n",
    "              metrics=['accuracy'])\n",
    "history_2 = model.fit_generator(\n",
    "                    train_generator_2,\n",
    "                    steps_per_epoch = int(np.ceil(857/batch_size)),\n",
    "                    epochs=10,\n",
    "                    validation_data=validation_generator_2,\n",
    "                    validation_steps= int(np.ceil(60/batch_size)),\n",
    "                    verbose=2,\n",
    "                    class_weight=class_weight)"
   ]
  },
  {
   "cell_type": "code",
   "execution_count": 13,
   "metadata": {},
   "outputs": [],
   "source": [
    "model.save('2class_best_1.h5')"
   ]
  },
  {
   "cell_type": "code",
   "execution_count": 14,
   "metadata": {},
   "outputs": [
    {
     "name": "stdout",
     "output_type": "stream",
     "text": [
      "Epoch 1/10\n",
      " - 25s - loss: 0.2409 - acc: 0.9356 - val_loss: 0.2503 - val_acc: 0.9333\n",
      "Epoch 2/10\n",
      " - 24s - loss: 0.1772 - acc: 0.9543 - val_loss: 0.4239 - val_acc: 0.8833\n",
      "Epoch 3/10\n",
      " - 24s - loss: 0.1747 - acc: 0.9520 - val_loss: 0.4446 - val_acc: 0.9000\n",
      "Epoch 4/10\n",
      " - 23s - loss: 0.2079 - acc: 0.9486 - val_loss: 0.2387 - val_acc: 0.9333\n",
      "Epoch 5/10\n",
      " - 25s - loss: 0.1669 - acc: 0.9505 - val_loss: 0.3670 - val_acc: 0.8833\n",
      "Epoch 6/10\n",
      " - 22s - loss: 0.1875 - acc: 0.9535 - val_loss: 0.3536 - val_acc: 0.9167\n",
      "Epoch 7/10\n",
      " - 23s - loss: 0.1960 - acc: 0.9477 - val_loss: 0.5908 - val_acc: 0.8667\n",
      "Epoch 8/10\n",
      " - 25s - loss: 0.1931 - acc: 0.9420 - val_loss: 0.2998 - val_acc: 0.9333\n",
      "Epoch 9/10\n",
      " - 23s - loss: 0.1989 - acc: 0.9413 - val_loss: 0.3460 - val_acc: 0.9167\n",
      "Epoch 10/10\n",
      " - 24s - loss: 0.1664 - acc: 0.9471 - val_loss: 0.5670 - val_acc: 0.8667\n"
     ]
    }
   ],
   "source": [
    "model.compile(optimizer=optimizers.RMSprop(lr=0.0000005),\n",
    "              loss='categorical_crossentropy',\n",
    "              metrics=['accuracy'])\n",
    "history_2 = model.fit_generator(\n",
    "                    train_generator_2,\n",
    "                    steps_per_epoch = int(np.ceil(857/batch_size)),\n",
    "                    epochs=10,\n",
    "                    validation_data=validation_generator_2,\n",
    "                    validation_steps= int(np.ceil(60/batch_size)),\n",
    "                    verbose=2,\n",
    "                    class_weight=class_weight)"
   ]
  },
  {
   "cell_type": "code",
   "execution_count": 3,
   "metadata": {},
   "outputs": [],
   "source": [
    "from keras.models import load_model\n",
    "model = load_model('2class_best_1.h5')"
   ]
  },
  {
   "cell_type": "code",
   "execution_count": 4,
   "metadata": {},
   "outputs": [],
   "source": [
    "# Save the weights\n",
    "model.save_weights('2class_model_weights.h5')\n",
    "\n",
    "# Save the model architecture\n",
    "with open('2class_model_architecture.json', 'w') as f:\n",
    "    f.write(model.to_json())"
   ]
  },
  {
   "cell_type": "code",
   "execution_count": 8,
   "metadata": {},
   "outputs": [
    {
     "name": "stdout",
     "output_type": "stream",
     "text": [
      "Found 60 images belonging to 2 classes.\n"
     ]
    }
   ],
   "source": [
    "val2_dir = './validation2'\n",
    "test_datagen = ImageDataGenerator(rescale=1./255)\n",
    "test_generator = test_datagen.flow_from_directory(\n",
    "        val2_dir,\n",
    "        target_size=(196, 196),\n",
    "        color_mode=\"rgb\",\n",
    "        shuffle = False,\n",
    "        class_mode='categorical',\n",
    "        batch_size=1)\n",
    "\n",
    "filenames = test_generator.filenames\n",
    "nb_samples = len(filenames)\n",
    "\n",
    "predict = model.predict_generator(test_generator,steps = nb_samples)"
   ]
  },
  {
   "cell_type": "code",
   "execution_count": 9,
   "metadata": {},
   "outputs": [],
   "source": [
    "predict_labels = np.argmax(predict, axis=1)\n",
    "val_labels = np.zeros(predict_labels.size, dtype=int)\n",
    "for i in range(2):\n",
    "    for j in range(30):\n",
    "        val_labels[i*30+j] = int(i);"
   ]
  },
  {
   "cell_type": "code",
   "execution_count": 10,
   "metadata": {},
   "outputs": [
    {
     "data": {
      "text/plain": [
       "array([[25,  5],\n",
       "       [ 0, 30]])"
      ]
     },
     "execution_count": 10,
     "metadata": {},
     "output_type": "execute_result"
    }
   ],
   "source": [
    "from sklearn.metrics import confusion_matrix \n",
    "confusion_matrix(val_labels, predict_labels)"
   ]
  }
 ],
 "metadata": {
  "kernelspec": {
   "display_name": "Python 3",
   "language": "python",
   "name": "python3"
  },
  "language_info": {
   "codemirror_mode": {
    "name": "ipython",
    "version": 3
   },
   "file_extension": ".py",
   "mimetype": "text/x-python",
   "name": "python",
   "nbconvert_exporter": "python",
   "pygments_lexer": "ipython3",
   "version": "3.5.3"
  }
 },
 "nbformat": 4,
 "nbformat_minor": 2
}
